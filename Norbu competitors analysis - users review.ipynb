{
 "cells": [
  {
   "cell_type": "markdown",
   "id": "ab0d5f6d",
   "metadata": {},
   "source": [
    "# NORBU Competitors Analysis - Users Review Analysis"
   ]
  },
  {
   "cell_type": "markdown",
   "id": "1f133464",
   "metadata": {},
   "source": [
    "## Competitors"
   ]
  },
  {
   "cell_type": "markdown",
   "id": "f2c45cfb",
   "metadata": {},
   "source": [
    "https://lojongapp.com/<br>\n",
    "https://meditopia.com/<br>"
   ]
  },
  {
   "cell_type": "markdown",
   "id": "1f24f1a5",
   "metadata": {},
   "source": [
    "## Plan"
   ]
  },
  {
   "cell_type": "markdown",
   "id": "843f267a",
   "metadata": {},
   "source": [
    "1. Scrape reviews from Google play for Norbu and the competitors.\n",
    "2. Explore the data.\n",
    "3. Normalize the text: Remove signs like ,.: and convert to lowercase.\n",
    "4. Text preprocessing: Tokenize the text and lemmatize\n",
    "5. Embedding: creating bag of words, turning text into matrix of words and n-grams using TF-IDF\n",
    "6. Examine the most important words and n-grams for positive reviews (4-5) and negative reviews (1-3)\n",
    "7. Sentiment analysis: Predict the score and look at feature importance to understand important words and n-grams "
   ]
  },
  {
   "cell_type": "code",
   "execution_count": 179,
   "id": "cf3fb59c",
   "metadata": {},
   "outputs": [],
   "source": [
    "import pandas as pd\n",
    "import numpy as np\n",
    "import matplotlib.pyplot as plt\n",
    "import seaborn as sns\n",
    "import re \n",
    "from google_play_scraper import app, Sort, reviews_all\n",
    "import nltk\n",
    "from sklearn.feature_extraction.text import TfidfVectorizer\n",
    "from sklearn.linear_model import LogisticRegression\n",
    "from nltk.corpus import stopwords\n",
    "from sklearn.feature_extraction.text import CountVectorizer\n",
    "\n",
    "from sklearn.utils import resample\n",
    "from sklearn.utils import shuffle\n",
    "\n",
    "import nltk\n",
    "from nltk.stem import WordNetLemmatizer\n",
    "\n",
    "from sklearn.model_selection import cross_validate\n",
    "from sklearn.metrics import classification_report\n",
    "from sklearn.metrics import make_scorer, accuracy_score, precision_score, recall_score, f1_score\n",
    "from sklearn.metrics import confusion_matrix\n",
    "from sklearn.ensemble import RandomForestClassifier \n",
    "from sklearn.model_selection import train_test_split\n",
    "from sklearn import metrics\n",
    "import shap\n",
    "\n",
    "\n",
    "#Error ignore\n",
    "import sys\n",
    "import warnings\n",
    "if not sys.warnoptions:\n",
    "    warnings.simplefilter(\"ignore\")"
   ]
  },
  {
   "cell_type": "markdown",
   "id": "dba9b408",
   "metadata": {},
   "source": [
    "## Functions"
   ]
  },
  {
   "cell_type": "code",
   "execution_count": null,
   "id": "436f7ec3",
   "metadata": {},
   "outputs": [],
   "source": [
    "# input the data, the function will remove any signs like ,.:!? , convert to lowercase, tokenize and lemmatize the text.\n",
    "# the function will return a clean DataFrame.\n",
    "#this function initiates another function called text_preprocessing.\n",
    "\n",
    "def nlp_norm (data):\n",
    "    pattern = r\"[^a-zA-Z']\"\n",
    "    #Create new column with only words and ' sign, remove all others as !, #,$, etc.\n",
    "    #re.sub - Return the string obtained by replacing the leftmost non-overlapping occurrences\n",
    "    #of pattern in string by the replacement repl. \n",
    "    #If the pattern isn’t found, string is returned unchanged\n",
    "    data['content_clean'] = data['content'].apply(lambda x: re.sub(pattern, \" \", x))\n",
    "    #Remove whitespaces\n",
    "    data['content_clean'] = data['content_clean'].apply(lambda x: x.strip())\n",
    "    #Set all wrods to lowercase\n",
    "    data['content_clean'] = data['content_clean'].apply(lambda x: x.lower())\n",
    "    \n",
    "    #Using spacy for tokenization and lemmatization on train data\n",
    "    lemmas_review = data['content_clean'].apply(lambda x: text_preprocessing(x))\n",
    "    return pd.DataFrame(lemmas_review, columns=['content_clean'])"
   ]
  },
  {
   "cell_type": "code",
   "execution_count": null,
   "id": "a20d996a",
   "metadata": {},
   "outputs": [],
   "source": [
    "#Function for Tokanization and lemmatization. Input the text (row) and return clean text.\n",
    "def text_preprocessing(text):\n",
    "    \n",
    "    words = nltk.word_tokenize(text)\n",
    "    lemmas = ' '.join([wordnet_lemma.lemmatize(w, pos = 'n') for w in words])\n",
    "    return lemmas"
   ]
  },
  {
   "cell_type": "code",
   "execution_count": null,
   "id": "fac61700",
   "metadata": {},
   "outputs": [],
   "source": [
    "#Input the data and the target score, the function will Embed the text into matrix using TF-IDF and show 10 first most\n",
    "#importnat words.\n",
    "def rev_by_score_tfidf_binary (data, score):\n",
    "    tf_idf = count_tf_idf.fit_transform(data[data['binary_score']==score]['content_clean'])\n",
    "    tf_idf_array = tf_idf.toarray()\n",
    "    bow_matrix = pd.DataFrame(data=tf_idf_array, columns=count_tf_idf.get_feature_names())\n",
    "    print(bow_matrix.sum(axis=0).sort_values(ascending=False).head(10))"
   ]
  },
  {
   "cell_type": "code",
   "execution_count": 184,
   "id": "eafdca92",
   "metadata": {},
   "outputs": [],
   "source": [
    "#input data, the function will split it to train and test set, upsample the minority class of training set, embed the words\n",
    "# and run Random Forest to predict the score.\n",
    "def predict (data):\n",
    "    \n",
    "    target = data['binary_score']\n",
    "    features = data['content_clean']\n",
    "\n",
    "    X_train, X_test, y_train, y_test = train_test_split(features, target, test_size=0.2, random_state=42)\n",
    "\n",
    "    fig, axs = plt.subplots(figsize=(10, 5))\n",
    "    plt.title('Target distribution', size=15)\n",
    "    sns.kdeplot(data=y_train, ax=axs, color='blue', label='Train')\n",
    "    sns.kdeplot(data=y_test, ax=axs, color='green', label='Test')\n",
    "    plt.legend()\n",
    "    plt.show()\n",
    "    \n",
    "    #upsampling\n",
    "    #Compbine training features and target for upsampling\n",
    "    train = pd.DataFrame(X_train).merge(pd.DataFrame(y_train), left_index=True, right_index=True)\n",
    "    #Divide the samples into\n",
    "    bad = train[train['binary_score'] == 0]\n",
    "    good = train[train['binary_score'] == 1]\n",
    "    #Upsample of minority\n",
    "    bad_upsample = resample(bad, replace=True, n_samples = len(good)-len(bad), random_state=42)\n",
    "    \n",
    "    upsampled = pd.concat([good,bad,bad_upsample])\n",
    "    upsampled = shuffle(upsampled, random_state=42)\n",
    "    print('New sample:',upsampled['binary_score'].value_counts())\n",
    "    \n",
    "    X_train = upsampled.drop(['binary_score'], axis=1)\n",
    "    y_train = upsampled['binary_score']\n",
    "    \n",
    "    fig, axs = plt.subplots(figsize=(10, 5))\n",
    "    plt.title('Target distribution after upsampling', size=15)\n",
    "    sns.kdeplot(data=y_train, ax=axs, color='blue', label='Train')\n",
    "    sns.kdeplot(data=y_test, ax=axs, color='green', label='Test')\n",
    "    plt.legend()\n",
    "    plt.show()\n",
    "    \n",
    "\n",
    "    train_features = count_tf_idf.fit_transform(X_train.squeeze())\n",
    "    test_features = count_tf_idf.transform(X_test)\n",
    "\n",
    "    RandomForest = RandomForestClassifier(random_state=42).fit(train_features, y_train)\n",
    "    scores_rf = cross_validate(RandomForest, train_features, y_train, cv=5,scoring='f1')\n",
    "    print('F1 score:',scores_rf['test_score'].mean())\n",
    "\n",
    "    y_pred_rf = RandomForest.predict(test_features)\n",
    "\n",
    "    conf_rf = confusion_matrix(y_test, y_pred_rf)\n",
    "\n",
    "    ax = sns.heatmap(conf_rf, annot=True, cmap='Blues',fmt='g')\n",
    "    ax.set_title('Confusion Matrix with labels\\n\\n');\n",
    "    ax.set_xlabel('\\nPredicted Values')\n",
    "    ax.set_ylabel('Actual Values ')\n",
    "    ax.set_xticklabels([0,1])\n",
    "    ax.set_yticklabels([0,1])\n",
    "    plt.show()\n",
    "    \n",
    "    tf_idf_array = train_features.toarray()\n",
    "    bow_matrix = pd.DataFrame(data=tf_idf_array, columns=count_tf_idf.get_feature_names())\n",
    "\n",
    "    plt.barh(bow_matrix.columns[np.argsort(np.sort(RandomForest.feature_importances_)[::-1][:10])], np.sort(RandomForest.feature_importances_)[::-1][:10])\n",
    "    plt.title('Binary class classification features importance', size=15)\n",
    "    plt.show()\n",
    "\n",
    "    print(classification_report(y_test, y_pred_rf))\n",
    "    "
   ]
  },
  {
   "cell_type": "code",
   "execution_count": 162,
   "id": "6e2ba73c",
   "metadata": {},
   "outputs": [],
   "source": [
    "tf_idf_array = train_features.toarray()\n",
    "bow_matrix = pd.DataFrame(data=tf_idf_array, columns=count_tf_idf.get_feature_names())"
   ]
  },
  {
   "cell_type": "code",
   "execution_count": 172,
   "id": "7702baf4",
   "metadata": {},
   "outputs": [
    {
     "data": {
      "text/plain": [
       "array(['aa', 'aa fix', 'aa fix update', ..., 'zorlar', 'zorlar diye',\n",
       "       'zorlar diye nm'], dtype=object)"
      ]
     },
     "execution_count": 172,
     "metadata": {},
     "output_type": "execute_result"
    }
   ],
   "source": [
    "count_tf_idf.get_feature_names_out()"
   ]
  },
  {
   "cell_type": "code",
   "execution_count": 163,
   "id": "dc775bda",
   "metadata": {},
   "outputs": [
    {
     "data": {
      "text/html": [
       "<div>\n",
       "<style scoped>\n",
       "    .dataframe tbody tr th:only-of-type {\n",
       "        vertical-align: middle;\n",
       "    }\n",
       "\n",
       "    .dataframe tbody tr th {\n",
       "        vertical-align: top;\n",
       "    }\n",
       "\n",
       "    .dataframe thead th {\n",
       "        text-align: right;\n",
       "    }\n",
       "</style>\n",
       "<table border=\"1\" class=\"dataframe\">\n",
       "  <thead>\n",
       "    <tr style=\"text-align: right;\">\n",
       "      <th></th>\n",
       "      <th>aa</th>\n",
       "      <th>aa fix</th>\n",
       "      <th>aa fix update</th>\n",
       "      <th>aak</th>\n",
       "      <th>aak thu</th>\n",
       "      <th>aangeboden</th>\n",
       "      <th>aangeboden proeftijd</th>\n",
       "      <th>aangeboden proeftijd maar</th>\n",
       "      <th>ability</th>\n",
       "      <th>ability select</th>\n",
       "      <th>...</th>\n",
       "      <th>zor bir</th>\n",
       "      <th>zor bir amas</th>\n",
       "      <th>zor kapatt</th>\n",
       "      <th>zor kapatt ok</th>\n",
       "      <th>zorla</th>\n",
       "      <th>zorla uydurulmu</th>\n",
       "      <th>zorla uydurulmu hikayeler</th>\n",
       "      <th>zorlar</th>\n",
       "      <th>zorlar diye</th>\n",
       "      <th>zorlar diye nm</th>\n",
       "    </tr>\n",
       "  </thead>\n",
       "  <tbody>\n",
       "    <tr>\n",
       "      <th>0</th>\n",
       "      <td>0.0</td>\n",
       "      <td>0.0</td>\n",
       "      <td>0.0</td>\n",
       "      <td>0.0</td>\n",
       "      <td>0.0</td>\n",
       "      <td>0.0</td>\n",
       "      <td>0.0</td>\n",
       "      <td>0.0</td>\n",
       "      <td>0.0</td>\n",
       "      <td>0.0</td>\n",
       "      <td>...</td>\n",
       "      <td>0.0</td>\n",
       "      <td>0.0</td>\n",
       "      <td>0.0</td>\n",
       "      <td>0.0</td>\n",
       "      <td>0.0</td>\n",
       "      <td>0.0</td>\n",
       "      <td>0.0</td>\n",
       "      <td>0.0</td>\n",
       "      <td>0.0</td>\n",
       "      <td>0.0</td>\n",
       "    </tr>\n",
       "    <tr>\n",
       "      <th>1</th>\n",
       "      <td>0.0</td>\n",
       "      <td>0.0</td>\n",
       "      <td>0.0</td>\n",
       "      <td>0.0</td>\n",
       "      <td>0.0</td>\n",
       "      <td>0.0</td>\n",
       "      <td>0.0</td>\n",
       "      <td>0.0</td>\n",
       "      <td>0.0</td>\n",
       "      <td>0.0</td>\n",
       "      <td>...</td>\n",
       "      <td>0.0</td>\n",
       "      <td>0.0</td>\n",
       "      <td>0.0</td>\n",
       "      <td>0.0</td>\n",
       "      <td>0.0</td>\n",
       "      <td>0.0</td>\n",
       "      <td>0.0</td>\n",
       "      <td>0.0</td>\n",
       "      <td>0.0</td>\n",
       "      <td>0.0</td>\n",
       "    </tr>\n",
       "    <tr>\n",
       "      <th>2</th>\n",
       "      <td>0.0</td>\n",
       "      <td>0.0</td>\n",
       "      <td>0.0</td>\n",
       "      <td>0.0</td>\n",
       "      <td>0.0</td>\n",
       "      <td>0.0</td>\n",
       "      <td>0.0</td>\n",
       "      <td>0.0</td>\n",
       "      <td>0.0</td>\n",
       "      <td>0.0</td>\n",
       "      <td>...</td>\n",
       "      <td>0.0</td>\n",
       "      <td>0.0</td>\n",
       "      <td>0.0</td>\n",
       "      <td>0.0</td>\n",
       "      <td>0.0</td>\n",
       "      <td>0.0</td>\n",
       "      <td>0.0</td>\n",
       "      <td>0.0</td>\n",
       "      <td>0.0</td>\n",
       "      <td>0.0</td>\n",
       "    </tr>\n",
       "    <tr>\n",
       "      <th>3</th>\n",
       "      <td>0.0</td>\n",
       "      <td>0.0</td>\n",
       "      <td>0.0</td>\n",
       "      <td>0.0</td>\n",
       "      <td>0.0</td>\n",
       "      <td>0.0</td>\n",
       "      <td>0.0</td>\n",
       "      <td>0.0</td>\n",
       "      <td>0.0</td>\n",
       "      <td>0.0</td>\n",
       "      <td>...</td>\n",
       "      <td>0.0</td>\n",
       "      <td>0.0</td>\n",
       "      <td>0.0</td>\n",
       "      <td>0.0</td>\n",
       "      <td>0.0</td>\n",
       "      <td>0.0</td>\n",
       "      <td>0.0</td>\n",
       "      <td>0.0</td>\n",
       "      <td>0.0</td>\n",
       "      <td>0.0</td>\n",
       "    </tr>\n",
       "    <tr>\n",
       "      <th>4</th>\n",
       "      <td>0.0</td>\n",
       "      <td>0.0</td>\n",
       "      <td>0.0</td>\n",
       "      <td>0.0</td>\n",
       "      <td>0.0</td>\n",
       "      <td>0.0</td>\n",
       "      <td>0.0</td>\n",
       "      <td>0.0</td>\n",
       "      <td>0.0</td>\n",
       "      <td>0.0</td>\n",
       "      <td>...</td>\n",
       "      <td>0.0</td>\n",
       "      <td>0.0</td>\n",
       "      <td>0.0</td>\n",
       "      <td>0.0</td>\n",
       "      <td>0.0</td>\n",
       "      <td>0.0</td>\n",
       "      <td>0.0</td>\n",
       "      <td>0.0</td>\n",
       "      <td>0.0</td>\n",
       "      <td>0.0</td>\n",
       "    </tr>\n",
       "    <tr>\n",
       "      <th>...</th>\n",
       "      <td>...</td>\n",
       "      <td>...</td>\n",
       "      <td>...</td>\n",
       "      <td>...</td>\n",
       "      <td>...</td>\n",
       "      <td>...</td>\n",
       "      <td>...</td>\n",
       "      <td>...</td>\n",
       "      <td>...</td>\n",
       "      <td>...</td>\n",
       "      <td>...</td>\n",
       "      <td>...</td>\n",
       "      <td>...</td>\n",
       "      <td>...</td>\n",
       "      <td>...</td>\n",
       "      <td>...</td>\n",
       "      <td>...</td>\n",
       "      <td>...</td>\n",
       "      <td>...</td>\n",
       "      <td>...</td>\n",
       "      <td>...</td>\n",
       "    </tr>\n",
       "    <tr>\n",
       "      <th>3383</th>\n",
       "      <td>0.0</td>\n",
       "      <td>0.0</td>\n",
       "      <td>0.0</td>\n",
       "      <td>0.0</td>\n",
       "      <td>0.0</td>\n",
       "      <td>0.0</td>\n",
       "      <td>0.0</td>\n",
       "      <td>0.0</td>\n",
       "      <td>0.0</td>\n",
       "      <td>0.0</td>\n",
       "      <td>...</td>\n",
       "      <td>0.0</td>\n",
       "      <td>0.0</td>\n",
       "      <td>0.0</td>\n",
       "      <td>0.0</td>\n",
       "      <td>0.0</td>\n",
       "      <td>0.0</td>\n",
       "      <td>0.0</td>\n",
       "      <td>0.0</td>\n",
       "      <td>0.0</td>\n",
       "      <td>0.0</td>\n",
       "    </tr>\n",
       "    <tr>\n",
       "      <th>3384</th>\n",
       "      <td>0.0</td>\n",
       "      <td>0.0</td>\n",
       "      <td>0.0</td>\n",
       "      <td>0.0</td>\n",
       "      <td>0.0</td>\n",
       "      <td>0.0</td>\n",
       "      <td>0.0</td>\n",
       "      <td>0.0</td>\n",
       "      <td>0.0</td>\n",
       "      <td>0.0</td>\n",
       "      <td>...</td>\n",
       "      <td>0.0</td>\n",
       "      <td>0.0</td>\n",
       "      <td>0.0</td>\n",
       "      <td>0.0</td>\n",
       "      <td>0.0</td>\n",
       "      <td>0.0</td>\n",
       "      <td>0.0</td>\n",
       "      <td>0.0</td>\n",
       "      <td>0.0</td>\n",
       "      <td>0.0</td>\n",
       "    </tr>\n",
       "    <tr>\n",
       "      <th>3385</th>\n",
       "      <td>0.0</td>\n",
       "      <td>0.0</td>\n",
       "      <td>0.0</td>\n",
       "      <td>0.0</td>\n",
       "      <td>0.0</td>\n",
       "      <td>0.0</td>\n",
       "      <td>0.0</td>\n",
       "      <td>0.0</td>\n",
       "      <td>0.0</td>\n",
       "      <td>0.0</td>\n",
       "      <td>...</td>\n",
       "      <td>0.0</td>\n",
       "      <td>0.0</td>\n",
       "      <td>0.0</td>\n",
       "      <td>0.0</td>\n",
       "      <td>0.0</td>\n",
       "      <td>0.0</td>\n",
       "      <td>0.0</td>\n",
       "      <td>0.0</td>\n",
       "      <td>0.0</td>\n",
       "      <td>0.0</td>\n",
       "    </tr>\n",
       "    <tr>\n",
       "      <th>3386</th>\n",
       "      <td>0.0</td>\n",
       "      <td>0.0</td>\n",
       "      <td>0.0</td>\n",
       "      <td>0.0</td>\n",
       "      <td>0.0</td>\n",
       "      <td>0.0</td>\n",
       "      <td>0.0</td>\n",
       "      <td>0.0</td>\n",
       "      <td>0.0</td>\n",
       "      <td>0.0</td>\n",
       "      <td>...</td>\n",
       "      <td>0.0</td>\n",
       "      <td>0.0</td>\n",
       "      <td>0.0</td>\n",
       "      <td>0.0</td>\n",
       "      <td>0.0</td>\n",
       "      <td>0.0</td>\n",
       "      <td>0.0</td>\n",
       "      <td>0.0</td>\n",
       "      <td>0.0</td>\n",
       "      <td>0.0</td>\n",
       "    </tr>\n",
       "    <tr>\n",
       "      <th>3387</th>\n",
       "      <td>0.0</td>\n",
       "      <td>0.0</td>\n",
       "      <td>0.0</td>\n",
       "      <td>0.0</td>\n",
       "      <td>0.0</td>\n",
       "      <td>0.0</td>\n",
       "      <td>0.0</td>\n",
       "      <td>0.0</td>\n",
       "      <td>0.0</td>\n",
       "      <td>0.0</td>\n",
       "      <td>...</td>\n",
       "      <td>0.0</td>\n",
       "      <td>0.0</td>\n",
       "      <td>0.0</td>\n",
       "      <td>0.0</td>\n",
       "      <td>0.0</td>\n",
       "      <td>0.0</td>\n",
       "      <td>0.0</td>\n",
       "      <td>0.0</td>\n",
       "      <td>0.0</td>\n",
       "      <td>0.0</td>\n",
       "    </tr>\n",
       "  </tbody>\n",
       "</table>\n",
       "<p>3388 rows × 29310 columns</p>\n",
       "</div>"
      ],
      "text/plain": [
       "       aa  aa fix  aa fix update  aak  aak thu  aangeboden  \\\n",
       "0     0.0     0.0            0.0  0.0      0.0         0.0   \n",
       "1     0.0     0.0            0.0  0.0      0.0         0.0   \n",
       "2     0.0     0.0            0.0  0.0      0.0         0.0   \n",
       "3     0.0     0.0            0.0  0.0      0.0         0.0   \n",
       "4     0.0     0.0            0.0  0.0      0.0         0.0   \n",
       "...   ...     ...            ...  ...      ...         ...   \n",
       "3383  0.0     0.0            0.0  0.0      0.0         0.0   \n",
       "3384  0.0     0.0            0.0  0.0      0.0         0.0   \n",
       "3385  0.0     0.0            0.0  0.0      0.0         0.0   \n",
       "3386  0.0     0.0            0.0  0.0      0.0         0.0   \n",
       "3387  0.0     0.0            0.0  0.0      0.0         0.0   \n",
       "\n",
       "      aangeboden proeftijd  aangeboden proeftijd maar  ability  \\\n",
       "0                      0.0                        0.0      0.0   \n",
       "1                      0.0                        0.0      0.0   \n",
       "2                      0.0                        0.0      0.0   \n",
       "3                      0.0                        0.0      0.0   \n",
       "4                      0.0                        0.0      0.0   \n",
       "...                    ...                        ...      ...   \n",
       "3383                   0.0                        0.0      0.0   \n",
       "3384                   0.0                        0.0      0.0   \n",
       "3385                   0.0                        0.0      0.0   \n",
       "3386                   0.0                        0.0      0.0   \n",
       "3387                   0.0                        0.0      0.0   \n",
       "\n",
       "      ability select  ...  zor bir  zor bir amas  zor kapatt  zor kapatt ok  \\\n",
       "0                0.0  ...      0.0           0.0         0.0            0.0   \n",
       "1                0.0  ...      0.0           0.0         0.0            0.0   \n",
       "2                0.0  ...      0.0           0.0         0.0            0.0   \n",
       "3                0.0  ...      0.0           0.0         0.0            0.0   \n",
       "4                0.0  ...      0.0           0.0         0.0            0.0   \n",
       "...              ...  ...      ...           ...         ...            ...   \n",
       "3383             0.0  ...      0.0           0.0         0.0            0.0   \n",
       "3384             0.0  ...      0.0           0.0         0.0            0.0   \n",
       "3385             0.0  ...      0.0           0.0         0.0            0.0   \n",
       "3386             0.0  ...      0.0           0.0         0.0            0.0   \n",
       "3387             0.0  ...      0.0           0.0         0.0            0.0   \n",
       "\n",
       "      zorla  zorla uydurulmu  zorla uydurulmu hikayeler  zorlar  zorlar diye  \\\n",
       "0       0.0              0.0                        0.0     0.0          0.0   \n",
       "1       0.0              0.0                        0.0     0.0          0.0   \n",
       "2       0.0              0.0                        0.0     0.0          0.0   \n",
       "3       0.0              0.0                        0.0     0.0          0.0   \n",
       "4       0.0              0.0                        0.0     0.0          0.0   \n",
       "...     ...              ...                        ...     ...          ...   \n",
       "3383    0.0              0.0                        0.0     0.0          0.0   \n",
       "3384    0.0              0.0                        0.0     0.0          0.0   \n",
       "3385    0.0              0.0                        0.0     0.0          0.0   \n",
       "3386    0.0              0.0                        0.0     0.0          0.0   \n",
       "3387    0.0              0.0                        0.0     0.0          0.0   \n",
       "\n",
       "      zorlar diye nm  \n",
       "0                0.0  \n",
       "1                0.0  \n",
       "2                0.0  \n",
       "3                0.0  \n",
       "4                0.0  \n",
       "...              ...  \n",
       "3383             0.0  \n",
       "3384             0.0  \n",
       "3385             0.0  \n",
       "3386             0.0  \n",
       "3387             0.0  \n",
       "\n",
       "[3388 rows x 29310 columns]"
      ]
     },
     "execution_count": 163,
     "metadata": {},
     "output_type": "execute_result"
    }
   ],
   "source": [
    "bow_matrix"
   ]
  },
  {
   "cell_type": "markdown",
   "id": "572d67fa",
   "metadata": {},
   "source": [
    "## Scrapping"
   ]
  },
  {
   "cell_type": "code",
   "execution_count": 2,
   "id": "849222d3",
   "metadata": {},
   "outputs": [],
   "source": [
    "#Google configuration\n",
    "norbu_google_users_rev = reviews_all('app.norbu', sleep_milliseconds=0)"
   ]
  },
  {
   "cell_type": "code",
   "execution_count": 3,
   "id": "bc662eb0",
   "metadata": {},
   "outputs": [],
   "source": [
    "#Convert to DataFrame\n",
    "df_norbu_google_users_rev = pd.DataFrame(np.array(norbu_google_users_rev), columns=['reviews'])"
   ]
  },
  {
   "cell_type": "code",
   "execution_count": 4,
   "id": "25dc53eb",
   "metadata": {},
   "outputs": [],
   "source": [
    "df_norbu_google_users_rev = df_norbu_google_users_rev.join(pd.DataFrame(df_norbu_google_users_rev.pop('reviews').tolist()))"
   ]
  },
  {
   "cell_type": "markdown",
   "id": "151dc60a",
   "metadata": {},
   "source": [
    "## EDA"
   ]
  },
  {
   "cell_type": "code",
   "execution_count": 5,
   "id": "ed311618",
   "metadata": {},
   "outputs": [
    {
     "data": {
      "text/html": [
       "<div>\n",
       "<style scoped>\n",
       "    .dataframe tbody tr th:only-of-type {\n",
       "        vertical-align: middle;\n",
       "    }\n",
       "\n",
       "    .dataframe tbody tr th {\n",
       "        vertical-align: top;\n",
       "    }\n",
       "\n",
       "    .dataframe thead th {\n",
       "        text-align: right;\n",
       "    }\n",
       "</style>\n",
       "<table border=\"1\" class=\"dataframe\">\n",
       "  <thead>\n",
       "    <tr style=\"text-align: right;\">\n",
       "      <th></th>\n",
       "      <th>reviewId</th>\n",
       "      <th>userName</th>\n",
       "      <th>userImage</th>\n",
       "      <th>content</th>\n",
       "      <th>score</th>\n",
       "      <th>thumbsUpCount</th>\n",
       "      <th>reviewCreatedVersion</th>\n",
       "      <th>at</th>\n",
       "      <th>replyContent</th>\n",
       "      <th>repliedAt</th>\n",
       "    </tr>\n",
       "  </thead>\n",
       "  <tbody>\n",
       "    <tr>\n",
       "      <th>0</th>\n",
       "      <td>gp:AOqpTOFSKOAazQ2FFZ2vFr-TcBjTogY-nPYegeujMna...</td>\n",
       "      <td>hastii 21</td>\n",
       "      <td>https://play-lh.googleusercontent.com/a/AATXAJ...</td>\n",
       "      <td>برنامه ی خیلی خوبیه، ولی چرا برای بقیه همه چیش...</td>\n",
       "      <td>4</td>\n",
       "      <td>0</td>\n",
       "      <td>3.5.2</td>\n",
       "      <td>2022-03-11 11:05:50</td>\n",
       "      <td>None</td>\n",
       "      <td>NaT</td>\n",
       "    </tr>\n",
       "    <tr>\n",
       "      <th>1</th>\n",
       "      <td>gp:AOqpTOEIDE2MAUa-wpGbWbf8fVslNSBqb27v55AeE70...</td>\n",
       "      <td>Anurag Sengupta</td>\n",
       "      <td>https://play-lh.googleusercontent.com/a/AATXAJ...</td>\n",
       "      <td>Hi I cancelled the subscription two days befor...</td>\n",
       "      <td>1</td>\n",
       "      <td>1</td>\n",
       "      <td>3.5.1</td>\n",
       "      <td>2022-03-04 22:49:52</td>\n",
       "      <td>None</td>\n",
       "      <td>NaT</td>\n",
       "    </tr>\n",
       "    <tr>\n",
       "      <th>2</th>\n",
       "      <td>gp:AOqpTOE0dnRGUOJ1vu3WgrjB7X3L72pxSCkjJZNpY1D...</td>\n",
       "      <td>Prakhar Dubey</td>\n",
       "      <td>https://play-lh.googleusercontent.com/a-/AOh14...</td>\n",
       "      <td>Just spent your money away😡</td>\n",
       "      <td>1</td>\n",
       "      <td>0</td>\n",
       "      <td>None</td>\n",
       "      <td>2022-01-31 15:51:19</td>\n",
       "      <td>Sorry to hear. Could you please explain what's...</td>\n",
       "      <td>2022-01-31 16:00:20</td>\n",
       "    </tr>\n",
       "    <tr>\n",
       "      <th>3</th>\n",
       "      <td>gp:AOqpTOG34YKH-ayEjmSJlLSJoLpcxzug-OOJkr3jOqN...</td>\n",
       "      <td>Ghazal mhmdi</td>\n",
       "      <td>https://play-lh.googleusercontent.com/a/AATXAJ...</td>\n",
       "      <td>I liked him♥️</td>\n",
       "      <td>5</td>\n",
       "      <td>0</td>\n",
       "      <td>None</td>\n",
       "      <td>2022-01-27 17:56:01</td>\n",
       "      <td>Dear friend, we are really glad that you like ...</td>\n",
       "      <td>2022-01-31 18:07:02</td>\n",
       "    </tr>\n",
       "    <tr>\n",
       "      <th>4</th>\n",
       "      <td>gp:AOqpTOEb0IhZUxJd5duUIlKqbXSwgvTQ2hIEWVjUVX_...</td>\n",
       "      <td>Atena Amini</td>\n",
       "      <td>https://play-lh.googleusercontent.com/a-/AOh14...</td>\n",
       "      <td>It didn't work after a week:(</td>\n",
       "      <td>3</td>\n",
       "      <td>0</td>\n",
       "      <td>None</td>\n",
       "      <td>2022-01-27 13:56:40</td>\n",
       "      <td>Hello, did your problem get resolved? If not, ...</td>\n",
       "      <td>2022-01-31 18:01:45</td>\n",
       "    </tr>\n",
       "  </tbody>\n",
       "</table>\n",
       "</div>"
      ],
      "text/plain": [
       "                                            reviewId         userName  \\\n",
       "0  gp:AOqpTOFSKOAazQ2FFZ2vFr-TcBjTogY-nPYegeujMna...        hastii 21   \n",
       "1  gp:AOqpTOEIDE2MAUa-wpGbWbf8fVslNSBqb27v55AeE70...  Anurag Sengupta   \n",
       "2  gp:AOqpTOE0dnRGUOJ1vu3WgrjB7X3L72pxSCkjJZNpY1D...    Prakhar Dubey   \n",
       "3  gp:AOqpTOG34YKH-ayEjmSJlLSJoLpcxzug-OOJkr3jOqN...     Ghazal mhmdi   \n",
       "4  gp:AOqpTOEb0IhZUxJd5duUIlKqbXSwgvTQ2hIEWVjUVX_...      Atena Amini   \n",
       "\n",
       "                                           userImage  \\\n",
       "0  https://play-lh.googleusercontent.com/a/AATXAJ...   \n",
       "1  https://play-lh.googleusercontent.com/a/AATXAJ...   \n",
       "2  https://play-lh.googleusercontent.com/a-/AOh14...   \n",
       "3  https://play-lh.googleusercontent.com/a/AATXAJ...   \n",
       "4  https://play-lh.googleusercontent.com/a-/AOh14...   \n",
       "\n",
       "                                             content  score  thumbsUpCount  \\\n",
       "0  برنامه ی خیلی خوبیه، ولی چرا برای بقیه همه چیش...      4              0   \n",
       "1  Hi I cancelled the subscription two days befor...      1              1   \n",
       "2                        Just spent your money away😡      1              0   \n",
       "3                                      I liked him♥️      5              0   \n",
       "4                      It didn't work after a week:(      3              0   \n",
       "\n",
       "  reviewCreatedVersion                  at  \\\n",
       "0                3.5.2 2022-03-11 11:05:50   \n",
       "1                3.5.1 2022-03-04 22:49:52   \n",
       "2                 None 2022-01-31 15:51:19   \n",
       "3                 None 2022-01-27 17:56:01   \n",
       "4                 None 2022-01-27 13:56:40   \n",
       "\n",
       "                                        replyContent           repliedAt  \n",
       "0                                               None                 NaT  \n",
       "1                                               None                 NaT  \n",
       "2  Sorry to hear. Could you please explain what's... 2022-01-31 16:00:20  \n",
       "3  Dear friend, we are really glad that you like ... 2022-01-31 18:07:02  \n",
       "4  Hello, did your problem get resolved? If not, ... 2022-01-31 18:01:45  "
      ]
     },
     "execution_count": 5,
     "metadata": {},
     "output_type": "execute_result"
    }
   ],
   "source": [
    "df_norbu_google_users_rev.head()"
   ]
  },
  {
   "cell_type": "code",
   "execution_count": 6,
   "id": "7ad36082",
   "metadata": {},
   "outputs": [
    {
     "data": {
      "image/png": "[encoded data removed]",
      "text/plain": [
       "<Figure size 432x288 with 1 Axes>"
      ]
     },
     "metadata": {
      "needs_background": "light"
     },
     "output_type": "display_data"
    }
   ],
   "source": [
    "df_norbu_google_users_rev['score'].value_counts().sort_values().plot(kind='barh')\n",
    "plt.title('Score count', size=15)\n",
    "plt.ylabel('Score')\n",
    "plt.xlabel('Count')\n",
    "plt.show()"
   ]
  },
  {
   "cell_type": "code",
   "execution_count": 87,
   "id": "ec07bab5",
   "metadata": {},
   "outputs": [
    {
     "data": {
      "text/plain": [
       "5    103\n",
       "1     12\n",
       "3     10\n",
       "4     10\n",
       "2      5\n",
       "Name: score, dtype: int64"
      ]
     },
     "execution_count": 87,
     "metadata": {},
     "output_type": "execute_result"
    }
   ],
   "source": [
    "df_norbu_google_users_rev['score'].value_counts()"
   ]
  },
  {
   "cell_type": "markdown",
   "id": "4d9ead5e",
   "metadata": {},
   "source": [
    "We have small number of revies, total of 155, while most of them good reviews scored with 5 (103), followed by the worst score of 1 (12)"
   ]
  },
  {
   "cell_type": "code",
   "execution_count": 7,
   "id": "155f71ee",
   "metadata": {},
   "outputs": [
    {
     "name": "stdout",
     "output_type": "stream",
     "text": [
      "<class 'pandas.core.frame.DataFrame'>\n",
      "RangeIndex: 155 entries, 0 to 154\n",
      "Data columns (total 10 columns):\n",
      " #   Column                Non-Null Count  Dtype         \n",
      "---  ------                --------------  -----         \n",
      " 0   reviewId              155 non-null    object        \n",
      " 1   userName              155 non-null    object        \n",
      " 2   userImage             155 non-null    object        \n",
      " 3   content               155 non-null    object        \n",
      " 4   score                 155 non-null    int64         \n",
      " 5   thumbsUpCount         155 non-null    int64         \n",
      " 6   reviewCreatedVersion  109 non-null    object        \n",
      " 7   at                    155 non-null    datetime64[ns]\n",
      " 8   replyContent          150 non-null    object        \n",
      " 9   repliedAt             150 non-null    datetime64[ns]\n",
      "dtypes: datetime64[ns](2), int64(2), object(6)\n",
      "memory usage: 12.2+ KB\n"
     ]
    }
   ],
   "source": [
    "df_norbu_google_users_rev.info()"
   ]
  },
  {
   "cell_type": "code",
   "execution_count": 8,
   "id": "7fc75c98",
   "metadata": {},
   "outputs": [
    {
     "data": {
      "text/plain": [
       "count                              155\n",
       "mean     2021-03-10 19:34:02.625806592\n",
       "min                2020-02-09 23:19:13\n",
       "25%                2020-11-08 13:57:02\n",
       "50%                2020-12-13 11:02:02\n",
       "75%         2021-10-01 13:51:00.500000\n",
       "max                2022-03-11 11:05:50\n",
       "Name: at, dtype: object"
      ]
     },
     "execution_count": 8,
     "metadata": {},
     "output_type": "execute_result"
    }
   ],
   "source": [
    "df_norbu_google_users_rev['at'].describe(datetime_is_numeric=True)E"
   ]
  },
  {
   "cell_type": "markdown",
   "id": "75bbb49d",
   "metadata": {},
   "source": [
    "There are 155 reviews from 2020 to 2022."
   ]
  },
  {
   "cell_type": "code",
   "execution_count": 9,
   "id": "0b799d60",
   "metadata": {},
   "outputs": [],
   "source": [
    "df_norbu_google_users_rev['date'] = df_norbu_google_users_rev['at'].dt.date"
   ]
  },
  {
   "cell_type": "code",
   "execution_count": 10,
   "id": "05633adf",
   "metadata": {},
   "outputs": [
    {
     "data": {
      "image/png": "[encoded data removed]",
      "text/plain": [
       "<Figure size 1080x360 with 1 Axes>"
      ]
     },
     "metadata": {
      "needs_background": "light"
     },
     "output_type": "display_data"
    }
   ],
   "source": [
    "fig, axs = plt.subplots(figsize=(15, 5))\n",
    "sns.lineplot(data=df_norbu_google_users_rev.groupby('date')['content'].count(), ax=axs)\n",
    "plt.title('Number of reviews per day', size=15)\n",
    "plt.ylabel('Number of reviews')\n",
    "plt.show()"
   ]
  },
  {
   "cell_type": "markdown",
   "id": "48ea6dae",
   "metadata": {},
   "source": [
    "Most of the days there only 1 review per day, in the period starting from Oct 2020 to Apr 2021 there was more activity with more than 1 review per day. Also we see some increase in activity from Oct 2021 until Apr 2022."
   ]
  },
  {
   "cell_type": "markdown",
   "id": "a3582da8",
   "metadata": {},
   "source": [
    "## Normalization"
   ]
  },
  {
   "cell_type": "code",
   "execution_count": 132,
   "id": "6e3dd9e3",
   "metadata": {},
   "outputs": [],
   "source": [
    "wordnet_lemma = WordNetLemmatizer()"
   ]
  },
  {
   "cell_type": "code",
   "execution_count": null,
   "id": "a74d20b1",
   "metadata": {},
   "outputs": [],
   "source": [
    "#We will look for words and n-gram up to 3 words\n",
    "count_tf_idf = TfidfVectorizer(stop_words = stop_words, ngram_range = (1,3))"
   ]
  },
  {
   "cell_type": "code",
   "execution_count": 133,
   "id": "35ebe3da",
   "metadata": {},
   "outputs": [
    {
     "data": {
      "text/html": [
       "<div>\n",
       "<style scoped>\n",
       "    .dataframe tbody tr th:only-of-type {\n",
       "        vertical-align: middle;\n",
       "    }\n",
       "\n",
       "    .dataframe tbody tr th {\n",
       "        vertical-align: top;\n",
       "    }\n",
       "\n",
       "    .dataframe thead th {\n",
       "        text-align: right;\n",
       "    }\n",
       "</style>\n",
       "<table border=\"1\" class=\"dataframe\">\n",
       "  <thead>\n",
       "    <tr style=\"text-align: right;\">\n",
       "      <th></th>\n",
       "      <th>content_clean</th>\n",
       "    </tr>\n",
       "  </thead>\n",
       "  <tbody>\n",
       "    <tr>\n",
       "      <th>1</th>\n",
       "      <td>hi i cancelled the subscription two day before my trial ended and yet i wa charged please see to it and refund me the same a i do n't have any usage of the app for me at this moment of time</td>\n",
       "    </tr>\n",
       "    <tr>\n",
       "      <th>2</th>\n",
       "      <td>just spent your money away</td>\n",
       "    </tr>\n",
       "    <tr>\n",
       "      <th>3</th>\n",
       "      <td>i liked him</td>\n",
       "    </tr>\n",
       "    <tr>\n",
       "      <th>4</th>\n",
       "      <td>it did n't work after a week</td>\n",
       "    </tr>\n",
       "    <tr>\n",
       "      <th>5</th>\n",
       "      <td>that 's great</td>\n",
       "    </tr>\n",
       "  </tbody>\n",
       "</table>\n",
       "</div>"
      ],
      "text/plain": [
       "                                                                                                                                                                                   content_clean\n",
       "1  hi i cancelled the subscription two day before my trial ended and yet i wa charged please see to it and refund me the same a i do n't have any usage of the app for me at this moment of time\n",
       "2                                                                                                                                                                     just spent your money away\n",
       "3                                                                                                                                                                                    i liked him\n",
       "4                                                                                                                                                                   it did n't work after a week\n",
       "5                                                                                                                                                                                  that 's great"
      ]
     },
     "execution_count": 133,
     "metadata": {},
     "output_type": "execute_result"
    }
   ],
   "source": [
    "data_norbu = nlp_norm(df_norbu_google_users_rev)\n",
    "data_norbu.head()"
   ]
  },
  {
   "cell_type": "code",
   "execution_count": 134,
   "id": "6179199f",
   "metadata": {},
   "outputs": [
    {
     "data": {
      "text/html": [
       "<div>\n",
       "<style scoped>\n",
       "    .dataframe tbody tr th:only-of-type {\n",
       "        vertical-align: middle;\n",
       "    }\n",
       "\n",
       "    .dataframe tbody tr th {\n",
       "        vertical-align: top;\n",
       "    }\n",
       "\n",
       "    .dataframe thead th {\n",
       "        text-align: right;\n",
       "    }\n",
       "</style>\n",
       "<table border=\"1\" class=\"dataframe\">\n",
       "  <thead>\n",
       "    <tr style=\"text-align: right;\">\n",
       "      <th></th>\n",
       "      <th>content_clean</th>\n",
       "      <th>score</th>\n",
       "    </tr>\n",
       "  </thead>\n",
       "  <tbody>\n",
       "    <tr>\n",
       "      <th>1</th>\n",
       "      <td>hi i cancelled the subscription two day before my trial ended and yet i wa charged please see to it and refund me the same a i do n't have any usage of the app for me at this moment of time</td>\n",
       "      <td>1</td>\n",
       "    </tr>\n",
       "    <tr>\n",
       "      <th>2</th>\n",
       "      <td>just spent your money away</td>\n",
       "      <td>1</td>\n",
       "    </tr>\n",
       "    <tr>\n",
       "      <th>3</th>\n",
       "      <td>i liked him</td>\n",
       "      <td>5</td>\n",
       "    </tr>\n",
       "    <tr>\n",
       "      <th>4</th>\n",
       "      <td>it did n't work after a week</td>\n",
       "      <td>3</td>\n",
       "    </tr>\n",
       "    <tr>\n",
       "      <th>5</th>\n",
       "      <td>that 's great</td>\n",
       "      <td>5</td>\n",
       "    </tr>\n",
       "  </tbody>\n",
       "</table>\n",
       "</div>"
      ],
      "text/plain": [
       "                                                                                                                                                                                   content_clean  \\\n",
       "1  hi i cancelled the subscription two day before my trial ended and yet i wa charged please see to it and refund me the same a i do n't have any usage of the app for me at this moment of time   \n",
       "2                                                                                                                                                                     just spent your money away   \n",
       "3                                                                                                                                                                                    i liked him   \n",
       "4                                                                                                                                                                   it did n't work after a week   \n",
       "5                                                                                                                                                                                  that 's great   \n",
       "\n",
       "   score  \n",
       "1      1  \n",
       "2      1  \n",
       "3      5  \n",
       "4      3  \n",
       "5      5  "
      ]
     },
     "execution_count": 134,
     "metadata": {},
     "output_type": "execute_result"
    }
   ],
   "source": [
    "#Merge with score\n",
    "data_norbu = data_norbu.merge(df_norbu_google_users_rev['score'],left_index=True, right_index=True)\n",
    "data_norbu.head()"
   ]
  },
  {
   "cell_type": "code",
   "execution_count": 135,
   "id": "2f700a55",
   "metadata": {},
   "outputs": [
    {
     "data": {
      "text/html": [
       "<div>\n",
       "<style scoped>\n",
       "    .dataframe tbody tr th:only-of-type {\n",
       "        vertical-align: middle;\n",
       "    }\n",
       "\n",
       "    .dataframe tbody tr th {\n",
       "        vertical-align: top;\n",
       "    }\n",
       "\n",
       "    .dataframe thead th {\n",
       "        text-align: right;\n",
       "    }\n",
       "</style>\n",
       "<table border=\"1\" class=\"dataframe\">\n",
       "  <thead>\n",
       "    <tr style=\"text-align: right;\">\n",
       "      <th></th>\n",
       "      <th>content_clean</th>\n",
       "      <th>score</th>\n",
       "      <th>binary_score</th>\n",
       "    </tr>\n",
       "  </thead>\n",
       "  <tbody>\n",
       "    <tr>\n",
       "      <th>1</th>\n",
       "      <td>hi i cancelled the subscription two day before my trial ended and yet i wa charged please see to it and refund me the same a i do n't have any usage of the app for me at this moment of time</td>\n",
       "      <td>1</td>\n",
       "      <td>0</td>\n",
       "    </tr>\n",
       "    <tr>\n",
       "      <th>2</th>\n",
       "      <td>just spent your money away</td>\n",
       "      <td>1</td>\n",
       "      <td>0</td>\n",
       "    </tr>\n",
       "    <tr>\n",
       "      <th>3</th>\n",
       "      <td>i liked him</td>\n",
       "      <td>5</td>\n",
       "      <td>1</td>\n",
       "    </tr>\n",
       "    <tr>\n",
       "      <th>4</th>\n",
       "      <td>it did n't work after a week</td>\n",
       "      <td>3</td>\n",
       "      <td>0</td>\n",
       "    </tr>\n",
       "    <tr>\n",
       "      <th>5</th>\n",
       "      <td>that 's great</td>\n",
       "      <td>5</td>\n",
       "      <td>1</td>\n",
       "    </tr>\n",
       "  </tbody>\n",
       "</table>\n",
       "</div>"
      ],
      "text/plain": [
       "                                                                                                                                                                                   content_clean  \\\n",
       "1  hi i cancelled the subscription two day before my trial ended and yet i wa charged please see to it and refund me the same a i do n't have any usage of the app for me at this moment of time   \n",
       "2                                                                                                                                                                     just spent your money away   \n",
       "3                                                                                                                                                                                    i liked him   \n",
       "4                                                                                                                                                                   it did n't work after a week   \n",
       "5                                                                                                                                                                                  that 's great   \n",
       "\n",
       "   score  binary_score  \n",
       "1      1             0  \n",
       "2      1             0  \n",
       "3      5             1  \n",
       "4      3             0  \n",
       "5      5             1  "
      ]
     },
     "execution_count": 135,
     "metadata": {},
     "output_type": "execute_result"
    }
   ],
   "source": [
    "#Add binary score\n",
    "data_norbu['binary_score'] = [1 if i > 3 else 0 for i in data_norbu['score']]\n",
    "data_norbu.head()"
   ]
  },
  {
   "cell_type": "markdown",
   "id": "7df1c3eb",
   "metadata": {},
   "source": [
    "### Score 0"
   ]
  },
  {
   "cell_type": "code",
   "execution_count": 136,
   "id": "1f821e3c",
   "metadata": {},
   "outputs": [
    {
     "name": "stdout",
     "output_type": "stream",
     "text": [
      "app         1.372388\n",
      "paywall     1.000000\n",
      "free        0.963974\n",
      "work        0.901314\n",
      "ever        0.866160\n",
      "worst       0.866160\n",
      "game        0.745642\n",
      "good        0.726840\n",
      "nice app    0.657800\n",
      "nice        0.657800\n",
      "dtype: float64\n"
     ]
    }
   ],
   "source": [
    "rev_by_score_tfidf_binary (data_norbu, 0)"
   ]
  },
  {
   "cell_type": "markdown",
   "id": "f3a3b7a5",
   "metadata": {},
   "source": [
    "### Score 1"
   ]
  },
  {
   "cell_type": "code",
   "execution_count": 137,
   "id": "5b8ab615",
   "metadata": {},
   "outputs": [
    {
     "name": "stdout",
     "output_type": "stream",
     "text": [
      "good         7.695621\n",
      "app          5.564861\n",
      "excellent    5.108707\n",
      "great        3.797742\n",
      "love         3.400858\n",
      "nice         3.093284\n",
      "stress       2.525008\n",
      "best         2.452400\n",
      "helpful      2.231384\n",
      "work         2.150978\n",
      "dtype: float64\n"
     ]
    }
   ],
   "source": [
    "rev_by_score_tfidf_binary (data_norbu, 1)"
   ]
  },
  {
   "cell_type": "code",
   "execution_count": 27,
   "id": "d51cf341",
   "metadata": {},
   "outputs": [],
   "source": [
    "pd.options.display.max_colwidth = 400"
   ]
  },
  {
   "cell_type": "code",
   "execution_count": 175,
   "id": "e0f28b52",
   "metadata": {},
   "outputs": [
    {
     "data": {
      "text/plain": [
       "26                                                                                                                                          sadly this did n't help me if anything the neuron massage game stressed me out more breathing exercise can be good however i find calming distraction or peaceful game better for my daily attack overall it a good app but just caused more anxiety and stress for myself\n",
       "65     i just downloaded it it might be a good game but the english in this game is rather odd and i am not sure if i answered the question accurately because i am not sure if i understood them a the writer intended in the result page i had some trouble understanding the category because i knew all the word i just wa not sure what they meant in context this stressed me out and made me feel axious so ...\n",
       "86                                                                                                                                                                                                                                                                                                               bro i have played a game that ball that give me a head yeak head rounding what can i do solve problem\n",
       "98                                                                                                                                                                                                                                                                                                                                                                                             worst game ever hate it\n",
       "110                                                                                                                                                            offer to play a game not telling the rule indeed you are expected to have a rather high stress tolerance to handle that select the right ball pretty right a not left right a correct one criterion no description on the site either back to my sudoku\n",
       "Name: content_clean, dtype: object"
      ]
     },
     "execution_count": 175,
     "metadata": {},
     "output_type": "execute_result"
    }
   ],
   "source": [
    "#Look for negative text\n",
    "data_norbu[data_norbu['binary_score']==0].loc[data_norbu['content_clean'].str.contains(\"game\", case=False)]['content_clean']"
   ]
  },
  {
   "cell_type": "markdown",
   "id": "468461fa",
   "metadata": {},
   "source": [
    "## Conclusion"
   ]
  },
  {
   "cell_type": "markdown",
   "id": "a31fcc5c",
   "metadata": {},
   "source": [
    "Seems that people don't like the balls game, its moves to fast and not relaxing at all, rules are not clear."
   ]
  },
  {
   "cell_type": "markdown",
   "id": "1dc18b6e",
   "metadata": {},
   "source": [
    "# Prediction and feature importnace"
   ]
  },
  {
   "cell_type": "code",
   "execution_count": 142,
   "id": "f995fedb",
   "metadata": {},
   "outputs": [
    {
     "data": {
      "image/png": "[encoded data removed]",
      "text/plain": [
       "<Figure size 720x360 with 1 Axes>"
      ]
     },
     "metadata": {
      "needs_background": "light"
     },
     "output_type": "display_data"
    },
    {
     "name": "stdout",
     "output_type": "stream",
     "text": [
      "New sample: 1    90\n",
      "0    90\n",
      "Name: binary_score, dtype: int64\n"
     ]
    },
    {
     "data": {
      "image/png": "[encoded data removed]",
      "text/plain": [
       "<Figure size 720x360 with 1 Axes>"
      ]
     },
     "metadata": {
      "needs_background": "light"
     },
     "output_type": "display_data"
    },
    {
     "name": "stdout",
     "output_type": "stream",
     "text": [
      "F1 score: 0.9581573476310318\n"
     ]
    },
    {
     "data": {
      "image/png": "[encoded data removed]",
      "text/plain": [
       "<Figure size 432x288 with 2 Axes>"
      ]
     },
     "metadata": {
      "needs_background": "light"
     },
     "output_type": "display_data"
    },
    {
     "data": {
      "image/png": "[encoded data removed]",
      "text/plain": [
       "<Figure size 432x288 with 1 Axes>"
      ]
     },
     "metadata": {
      "needs_background": "light"
     },
     "output_type": "display_data"
    },
    {
     "name": "stdout",
     "output_type": "stream",
     "text": [
      "              precision    recall  f1-score   support\n",
      "\n",
      "           0       0.00      0.00      0.00         5\n",
      "           1       0.82      1.00      0.90        23\n",
      "\n",
      "    accuracy                           0.82        28\n",
      "   macro avg       0.41      0.50      0.45        28\n",
      "weighted avg       0.67      0.82      0.74        28\n",
      "\n"
     ]
    },
    {
     "data": {
      "text/plain": [
       "(RandomForestClassifier(random_state=42),\n",
       "      absolutely  absolutely love  absolutely love app  account  account name  \\\n",
       " 0           0.0              0.0                  0.0      0.0           0.0   \n",
       " 1           0.0              0.0                  0.0      0.0           0.0   \n",
       " 2           0.0              0.0                  0.0      0.0           0.0   \n",
       " 3           0.0              0.0                  0.0      0.0           0.0   \n",
       " 4           0.0              0.0                  0.0      0.0           0.0   \n",
       " ..          ...              ...                  ...      ...           ...   \n",
       " 175         0.0              0.0                  0.0      0.0           0.0   \n",
       " 176         0.0              0.0                  0.0      0.0           0.0   \n",
       " 177         0.0              0.0                  0.0      0.0           0.0   \n",
       " 178         0.0              0.0                  0.0      0.0           0.0   \n",
       " 179         0.0              0.0                  0.0      0.0           0.0   \n",
       " \n",
       "      account name kayla  accurate  actaully  actaully help  \\\n",
       " 0                   0.0       0.0       0.0            0.0   \n",
       " 1                   0.0       0.0       0.0            0.0   \n",
       " 2                   0.0       0.0       0.0            0.0   \n",
       " 3                   0.0       0.0       0.0            0.0   \n",
       " 4                   0.0       0.0       0.0            0.0   \n",
       " ..                  ...       ...       ...            ...   \n",
       " 175                 0.0       0.0       0.0            0.0   \n",
       " 176                 0.0       0.0       0.0            0.0   \n",
       " 177                 0.0       0.0       0.0            0.0   \n",
       " 178                 0.0       0.0       0.0            0.0   \n",
       " 179                 0.0       0.0       0.0            0.0   \n",
       " \n",
       "      actaully help strees  ...  year  year old  year old girl  yet  \\\n",
       " 0                     0.0  ...   0.0       0.0            0.0  0.0   \n",
       " 1                     0.0  ...   0.0       0.0            0.0  0.0   \n",
       " 2                     0.0  ...   0.0       0.0            0.0  0.0   \n",
       " 3                     0.0  ...   0.0       0.0            0.0  0.0   \n",
       " 4                     0.0  ...   0.0       0.0            0.0  0.0   \n",
       " ..                    ...  ...   ...       ...            ...  ...   \n",
       " 175                   0.0  ...   0.0       0.0            0.0  0.0   \n",
       " 176                   0.0  ...   0.0       0.0            0.0  0.0   \n",
       " 177                   0.0  ...   0.0       0.0            0.0  0.0   \n",
       " 178                   0.0  ...   0.0       0.0            0.0  0.0   \n",
       " 179                   0.0  ...   0.0       0.0            0.0  0.0   \n",
       " \n",
       "      yet effective  yet wa  yet wa charged  youth  youth mental  \\\n",
       " 0              0.0     0.0             0.0    0.0           0.0   \n",
       " 1              0.0     0.0             0.0    0.0           0.0   \n",
       " 2              0.0     0.0             0.0    0.0           0.0   \n",
       " 3              0.0     0.0             0.0    0.0           0.0   \n",
       " 4              0.0     0.0             0.0    0.0           0.0   \n",
       " ..             ...     ...             ...    ...           ...   \n",
       " 175            0.0     0.0             0.0    0.0           0.0   \n",
       " 176            0.0     0.0             0.0    0.0           0.0   \n",
       " 177            0.0     0.0             0.0    0.0           0.0   \n",
       " 178            0.0     0.0             0.0    0.0           0.0   \n",
       " 179            0.0     0.0             0.0    0.0           0.0   \n",
       " \n",
       "      youth mental health  \n",
       " 0                    0.0  \n",
       " 1                    0.0  \n",
       " 2                    0.0  \n",
       " 3                    0.0  \n",
       " 4                    0.0  \n",
       " ..                   ...  \n",
       " 175                  0.0  \n",
       " 176                  0.0  \n",
       " 177                  0.0  \n",
       " 178                  0.0  \n",
       " 179                  0.0  \n",
       " \n",
       " [180 rows x 1673 columns])"
      ]
     },
     "execution_count": 142,
     "metadata": {},
     "output_type": "execute_result"
    }
   ],
   "source": [
    "predict(data_norbu)"
   ]
  },
  {
   "cell_type": "markdown",
   "id": "ec4f84f5",
   "metadata": {},
   "source": [
    "# Meditation: Lojong"
   ]
  },
  {
   "cell_type": "code",
   "execution_count": 50,
   "id": "b5147068",
   "metadata": {},
   "outputs": [
    {
     "data": {
      "text/html": [
       "<div>\n",
       "<style scoped>\n",
       "    .dataframe tbody tr th:only-of-type {\n",
       "        vertical-align: middle;\n",
       "    }\n",
       "\n",
       "    .dataframe tbody tr th {\n",
       "        vertical-align: top;\n",
       "    }\n",
       "\n",
       "    .dataframe thead th {\n",
       "        text-align: right;\n",
       "    }\n",
       "</style>\n",
       "<table border=\"1\" class=\"dataframe\">\n",
       "  <thead>\n",
       "    <tr style=\"text-align: right;\">\n",
       "      <th></th>\n",
       "      <th>reviewId</th>\n",
       "      <th>userName</th>\n",
       "      <th>userImage</th>\n",
       "      <th>content</th>\n",
       "      <th>score</th>\n",
       "      <th>thumbsUpCount</th>\n",
       "      <th>reviewCreatedVersion</th>\n",
       "      <th>at</th>\n",
       "      <th>replyContent</th>\n",
       "      <th>repliedAt</th>\n",
       "    </tr>\n",
       "  </thead>\n",
       "  <tbody>\n",
       "    <tr>\n",
       "      <th>0</th>\n",
       "      <td>gp:AOqpTOHDrEZs6IdK_KwXcYmBnY1t4SSQBin9rkK1GO1UGdHcCkNA-Gh80rsIi-tzroaZ4Bpdx-bwquoBIuG7wA</td>\n",
       "      <td>Mimi’s World of YouTube</td>\n",
       "      <td>https://play-lh.googleusercontent.com/a-/AOh14GhR_-20r9bTu5B3R03q1-UrEfxG7i8KSzEFC8wu</td>\n",
       "      <td>It's okay, but some of the instructors don't sound calm and the meditations are boring</td>\n",
       "      <td>2</td>\n",
       "      <td>0</td>\n",
       "      <td>None</td>\n",
       "      <td>2022-04-10 07:59:24</td>\n",
       "      <td>None</td>\n",
       "      <td>NaT</td>\n",
       "    </tr>\n",
       "    <tr>\n",
       "      <th>1</th>\n",
       "      <td>gp:AOqpTOGpg-JEGcaRaLfaMeDukOfDVafBt3UOBCPt_CdaMrpuyWTYrIj9wqo-erROQoUKHf72qkEgEluQOl5b-g</td>\n",
       "      <td>Ashley Odonnell</td>\n",
       "      <td>https://play-lh.googleusercontent.com/a-/AOh14GjuCMamyU2JteeZ4bi0G_F0WdnLAexyOKvy_F1asQ</td>\n",
       "      <td>I'm confused because I bought the premium because I liked the free version so much but now it says my subscription is active but it won't let me play premium stuff. I tried going to help and relaunching premium but it's not working....</td>\n",
       "      <td>3</td>\n",
       "      <td>0</td>\n",
       "      <td>2.26.4</td>\n",
       "      <td>2022-04-08 17:49:26</td>\n",
       "      <td>Good afternoon, Ashley! We apologize for this situation! Please, follow these steps to update the app and check if the problem is solved: go to \"More\", \"Settings\", \"Language\", \"English\", \"Yes\" and wait for the system to update. If the problem remains, please, send us an email at contact@lojongapp.com. Best regards from the Lojong Team! 🤗❤️</td>\n",
       "      <td>2022-04-08 18:13:19</td>\n",
       "    </tr>\n",
       "    <tr>\n",
       "      <th>2</th>\n",
       "      <td>gp:AOqpTOFwyRuQ1Lr-0RpQy0F-urTSASYbk8-_5AdciboCbD3rlANLWeAhq0ndc3k6sZOHjMWppSdRIsdbKG4B_Q</td>\n",
       "      <td>Julia Riell</td>\n",
       "      <td>https://play-lh.googleusercontent.com/a-/AOh14Gjp9aQMm3ZgByITQZ2HAK5k9lTb9WYUjWh4_jey6Q</td>\n",
       "      <td>Start. Right here. I have pursued/practised meditation and yoga on and off for years. This put me on a solid path to center this practice in my life. Used originally to unf*ck my mind regarding quitting smoking, and staying quit, now I am grateful truly grateful for this app. Even the adverts (which only come at the beginning, never during practice) are for things that I am interested in. I wi...</td>\n",
       "      <td>5</td>\n",
       "      <td>0</td>\n",
       "      <td>2.25.6</td>\n",
       "      <td>2022-04-08 15:46:45</td>\n",
       "      <td>Good afternoon, Julia! It's amazing to receive your feedback! Our goal is to make meditation more accessible and inclusive for everyone! Best regards from the Lojong Team. 🤗❤️</td>\n",
       "      <td>2022-04-08 18:56:54</td>\n",
       "    </tr>\n",
       "    <tr>\n",
       "      <th>3</th>\n",
       "      <td>gp:AOqpTOGwzQcVY7xeMOMWxGzqF2wDhqYDJWVfxcQ_5AqdEHBEyvayRlhs2jqZEoOWUHtYnrunNBOIotI6oJXlmg</td>\n",
       "      <td>Malgorzata</td>\n",
       "      <td>https://play-lh.googleusercontent.com/a-/AOh14GjGNSDQc93twkwq73ZU3kKPpbJBlXLfTlh-uYQFng</td>\n",
       "      <td>I've tried different meditation apps before but this one is easily the best. It's easy to use and offers a lot of insight into different types of meditation. While I learn about it in the beginner course, I also keep coming back to guided relaxations and sleep meditation playlist, they're both incredibly helpful. I really appreciate being able to select different voice guides, it allows for cu...</td>\n",
       "      <td>5</td>\n",
       "      <td>0</td>\n",
       "      <td>2.26.2</td>\n",
       "      <td>2022-04-08 01:13:18</td>\n",
       "      <td>We are very happy with your feedback! We are always looking to improve the app! Best regards from the Lojong Team. 🤗❤️\\n</td>\n",
       "      <td>2022-04-08 18:52:37</td>\n",
       "    </tr>\n",
       "    <tr>\n",
       "      <th>4</th>\n",
       "      <td>gp:AOqpTOG5FRZGBv6qNUaEi_fdEUC4aarsB6wks5HhHs6SCKGKUHZ8TxaicroDaS2u_maryR4ppiy6rlMv5ARc3A</td>\n",
       "      <td>juan carlos muñoz</td>\n",
       "      <td>https://play-lh.googleusercontent.com/a-/AOh14Gj7gOQFaUHHm-kmAZyCvsTLNcbS3ErDj28H0YZX</td>\n",
       "      <td>Me ayudó muchísimo, espero sigan creciendo</td>\n",
       "      <td>5</td>\n",
       "      <td>0</td>\n",
       "      <td>2.26.2</td>\n",
       "      <td>2022-04-07 08:06:42</td>\n",
       "      <td>Hola, Juan Carlos. ¡Gracias por tu valoración! Nuestras prácticas tienen como objetivo promover el bienestar de los usuarios y usuarias, ayudándoles a desarrollar la calma y la tranquilidad para hacer frente a las situaciones que surgen en el día a día. Un gran abrazo del equipo de Lojong. 🤗❤️\\n</td>\n",
       "      <td>2022-04-07 23:29:59</td>\n",
       "    </tr>\n",
       "  </tbody>\n",
       "</table>\n",
       "</div>"
      ],
      "text/plain": [
       "                                                                                    reviewId  \\\n",
       "0  gp:AOqpTOHDrEZs6IdK_KwXcYmBnY1t4SSQBin9rkK1GO1UGdHcCkNA-Gh80rsIi-tzroaZ4Bpdx-bwquoBIuG7wA   \n",
       "1  gp:AOqpTOGpg-JEGcaRaLfaMeDukOfDVafBt3UOBCPt_CdaMrpuyWTYrIj9wqo-erROQoUKHf72qkEgEluQOl5b-g   \n",
       "2  gp:AOqpTOFwyRuQ1Lr-0RpQy0F-urTSASYbk8-_5AdciboCbD3rlANLWeAhq0ndc3k6sZOHjMWppSdRIsdbKG4B_Q   \n",
       "3  gp:AOqpTOGwzQcVY7xeMOMWxGzqF2wDhqYDJWVfxcQ_5AqdEHBEyvayRlhs2jqZEoOWUHtYnrunNBOIotI6oJXlmg   \n",
       "4  gp:AOqpTOG5FRZGBv6qNUaEi_fdEUC4aarsB6wks5HhHs6SCKGKUHZ8TxaicroDaS2u_maryR4ppiy6rlMv5ARc3A   \n",
       "\n",
       "                  userName  \\\n",
       "0  Mimi’s World of YouTube   \n",
       "1          Ashley Odonnell   \n",
       "2              Julia Riell   \n",
       "3               Malgorzata   \n",
       "4        juan carlos muñoz   \n",
       "\n",
       "                                                                                 userImage  \\\n",
       "0    https://play-lh.googleusercontent.com/a-/AOh14GhR_-20r9bTu5B3R03q1-UrEfxG7i8KSzEFC8wu   \n",
       "1  https://play-lh.googleusercontent.com/a-/AOh14GjuCMamyU2JteeZ4bi0G_F0WdnLAexyOKvy_F1asQ   \n",
       "2  https://play-lh.googleusercontent.com/a-/AOh14Gjp9aQMm3ZgByITQZ2HAK5k9lTb9WYUjWh4_jey6Q   \n",
       "3  https://play-lh.googleusercontent.com/a-/AOh14GjGNSDQc93twkwq73ZU3kKPpbJBlXLfTlh-uYQFng   \n",
       "4    https://play-lh.googleusercontent.com/a-/AOh14Gj7gOQFaUHHm-kmAZyCvsTLNcbS3ErDj28H0YZX   \n",
       "\n",
       "                                                                                                                                                                                                                                                                                                                                                                                                           content  \\\n",
       "0                                                                                                                                                                                                                                                                                                                           It's okay, but some of the instructors don't sound calm and the meditations are boring   \n",
       "1                                                                                                                                                                      I'm confused because I bought the premium because I liked the free version so much but now it says my subscription is active but it won't let me play premium stuff. I tried going to help and relaunching premium but it's not working....   \n",
       "2  Start. Right here. I have pursued/practised meditation and yoga on and off for years. This put me on a solid path to center this practice in my life. Used originally to unf*ck my mind regarding quitting smoking, and staying quit, now I am grateful truly grateful for this app. Even the adverts (which only come at the beginning, never during practice) are for things that I am interested in. I wi...   \n",
       "3  I've tried different meditation apps before but this one is easily the best. It's easy to use and offers a lot of insight into different types of meditation. While I learn about it in the beginner course, I also keep coming back to guided relaxations and sleep meditation playlist, they're both incredibly helpful. I really appreciate being able to select different voice guides, it allows for cu...   \n",
       "4                                                                                                                                                                                                                                                                                                                                                                       Me ayudó muchísimo, espero sigan creciendo   \n",
       "\n",
       "   score  thumbsUpCount reviewCreatedVersion                  at  \\\n",
       "0      2              0                 None 2022-04-10 07:59:24   \n",
       "1      3              0               2.26.4 2022-04-08 17:49:26   \n",
       "2      5              0               2.25.6 2022-04-08 15:46:45   \n",
       "3      5              0               2.26.2 2022-04-08 01:13:18   \n",
       "4      5              0               2.26.2 2022-04-07 08:06:42   \n",
       "\n",
       "                                                                                                                                                                                                                                                                                                                                            replyContent  \\\n",
       "0                                                                                                                                                                                                                                                                                                                                                   None   \n",
       "1  Good afternoon, Ashley! We apologize for this situation! Please, follow these steps to update the app and check if the problem is solved: go to \"More\", \"Settings\", \"Language\", \"English\", \"Yes\" and wait for the system to update. If the problem remains, please, send us an email at contact@lojongapp.com. Best regards from the Lojong Team! 🤗❤️   \n",
       "2                                                                                                                                                                        Good afternoon, Julia! It's amazing to receive your feedback! Our goal is to make meditation more accessible and inclusive for everyone! Best regards from the Lojong Team. 🤗❤️   \n",
       "3                                                                                                                                                                                                                               We are very happy with your feedback! We are always looking to improve the app! Best regards from the Lojong Team. 🤗❤️\\n   \n",
       "4                                               Hola, Juan Carlos. ¡Gracias por tu valoración! Nuestras prácticas tienen como objetivo promover el bienestar de los usuarios y usuarias, ayudándoles a desarrollar la calma y la tranquilidad para hacer frente a las situaciones que surgen en el día a día. Un gran abrazo del equipo de Lojong. 🤗❤️\\n   \n",
       "\n",
       "            repliedAt  \n",
       "0                 NaT  \n",
       "1 2022-04-08 18:13:19  \n",
       "2 2022-04-08 18:56:54  \n",
       "3 2022-04-08 18:52:37  \n",
       "4 2022-04-07 23:29:59  "
      ]
     },
     "execution_count": 50,
     "metadata": {},
     "output_type": "execute_result"
    }
   ],
   "source": [
    "#Google configuration\n",
    "lojong_google_users_rev = reviews_all('br.com.lojong', sleep_milliseconds=0)\n",
    "#Convert to DataFrame\n",
    "df_lojong_google_users_rev = pd.DataFrame(np.array(lojong_google_users_rev), columns=['reviews'])\n",
    "df_lojong_google_users_rev = df_lojong_google_users_rev.join(pd.DataFrame(df_lojong_google_users_rev.pop('reviews').tolist()))\n",
    "\n",
    "df_lojong_google_users_rev.head()"
   ]
  },
  {
   "cell_type": "code",
   "execution_count": 51,
   "id": "1fde7e19",
   "metadata": {},
   "outputs": [
    {
     "name": "stdout",
     "output_type": "stream",
     "text": [
      "<class 'pandas.core.frame.DataFrame'>\n",
      "RangeIndex: 1851 entries, 0 to 1850\n",
      "Data columns (total 10 columns):\n",
      " #   Column                Non-Null Count  Dtype         \n",
      "---  ------                --------------  -----         \n",
      " 0   reviewId              1851 non-null   object        \n",
      " 1   userName              1851 non-null   object        \n",
      " 2   userImage             1851 non-null   object        \n",
      " 3   content               1851 non-null   object        \n",
      " 4   score                 1851 non-null   int64         \n",
      " 5   thumbsUpCount         1851 non-null   int64         \n",
      " 6   reviewCreatedVersion  1756 non-null   object        \n",
      " 7   at                    1851 non-null   datetime64[ns]\n",
      " 8   replyContent          1422 non-null   object        \n",
      " 9   repliedAt             1422 non-null   datetime64[ns]\n",
      "dtypes: datetime64[ns](2), int64(2), object(6)\n",
      "memory usage: 144.7+ KB\n"
     ]
    }
   ],
   "source": [
    "df_lojong_google_users_rev.info()"
   ]
  },
  {
   "cell_type": "code",
   "execution_count": 52,
   "id": "0337c530",
   "metadata": {},
   "outputs": [
    {
     "data": {
      "image/png": "[encoded data removed]",
      "text/plain": [
       "<Figure size 432x288 with 1 Axes>"
      ]
     },
     "metadata": {
      "needs_background": "light"
     },
     "output_type": "display_data"
    }
   ],
   "source": [
    "df_lojong_google_users_rev['score'].value_counts().sort_values().plot(kind='barh')\n",
    "plt.title('Score count', size=15)\n",
    "plt.ylabel('Score')\n",
    "plt.xlabel('Count')\n",
    "plt.show()"
   ]
  },
  {
   "cell_type": "code",
   "execution_count": 143,
   "id": "69c71328",
   "metadata": {},
   "outputs": [
    {
     "data": {
      "text/plain": [
       "5    1704\n",
       "4      64\n",
       "1      42\n",
       "3      24\n",
       "2      17\n",
       "Name: score, dtype: int64"
      ]
     },
     "execution_count": 143,
     "metadata": {},
     "output_type": "execute_result"
    }
   ],
   "source": [
    "df_lojong_google_users_rev['score'].value_counts()"
   ]
  },
  {
   "cell_type": "markdown",
   "id": "0aae5208",
   "metadata": {},
   "source": [
    "Most of the scores are 5 (1,704 reviews), followed by 4 (64 reviews)"
   ]
  },
  {
   "cell_type": "code",
   "execution_count": 53,
   "id": "c185a6e1",
   "metadata": {},
   "outputs": [
    {
     "data": {
      "text/plain": [
       "count                             1851\n",
       "mean     2021-01-19 19:27:57.446245376\n",
       "min                2017-12-25 19:18:56\n",
       "25%                2020-07-30 22:34:52\n",
       "50%                2021-05-28 05:42:56\n",
       "75%         2021-08-21 08:06:14.500000\n",
       "max                2022-04-10 07:59:24\n",
       "Name: at, dtype: object"
      ]
     },
     "execution_count": 53,
     "metadata": {},
     "output_type": "execute_result"
    }
   ],
   "source": [
    "df_lojong_google_users_rev['at'].describe(datetime_is_numeric=True)"
   ]
  },
  {
   "cell_type": "markdown",
   "id": "880f9412",
   "metadata": {},
   "source": [
    "We have reviews from Dec 2017 until today (Apr 2022)"
   ]
  },
  {
   "cell_type": "code",
   "execution_count": 54,
   "id": "dcb955e6",
   "metadata": {},
   "outputs": [],
   "source": [
    "df_lojong_google_users_rev['date'] = df_lojong_google_users_rev['at'].dt.date"
   ]
  },
  {
   "cell_type": "code",
   "execution_count": 55,
   "id": "54ac669e",
   "metadata": {},
   "outputs": [
    {
     "data": {
      "image/png": "[encoded data removed]",
      "text/plain": [
       "<Figure size 1080x360 with 1 Axes>"
      ]
     },
     "metadata": {
      "needs_background": "light"
     },
     "output_type": "display_data"
    }
   ],
   "source": [
    "fig, axs = plt.subplots(figsize=(15, 5))\n",
    "sns.lineplot(data=df_lojong_google_users_rev.groupby('date')['content'].count(), ax=axs)\n",
    "plt.title('Number of reviews per day', size=15)\n",
    "plt.ylabel('Number of reviews')\n",
    "plt.show()"
   ]
  },
  {
   "cell_type": "markdown",
   "id": "d748705c",
   "metadata": {},
   "source": [
    "we have peak of reviews in July 2020 and then again on July 2021 and reducing."
   ]
  },
  {
   "cell_type": "markdown",
   "id": "69ed155b",
   "metadata": {},
   "source": [
    "## Normalization"
   ]
  },
  {
   "cell_type": "markdown",
   "id": "e63ad1c0",
   "metadata": {},
   "source": [
    "1. Remove all signs\n",
    "2. Tokenize\n",
    "3. Lemmatize\n",
    "4. Join\n",
    "5. TF-IDF\n",
    "6. Predict"
   ]
  },
  {
   "cell_type": "code",
   "execution_count": 60,
   "id": "ffec3c57",
   "metadata": {},
   "outputs": [
    {
     "data": {
      "text/html": [
       "<div>\n",
       "<style scoped>\n",
       "    .dataframe tbody tr th:only-of-type {\n",
       "        vertical-align: middle;\n",
       "    }\n",
       "\n",
       "    .dataframe tbody tr th {\n",
       "        vertical-align: top;\n",
       "    }\n",
       "\n",
       "    .dataframe thead th {\n",
       "        text-align: right;\n",
       "    }\n",
       "</style>\n",
       "<table border=\"1\" class=\"dataframe\">\n",
       "  <thead>\n",
       "    <tr style=\"text-align: right;\">\n",
       "      <th></th>\n",
       "      <th>content_clean</th>\n",
       "    </tr>\n",
       "  </thead>\n",
       "  <tbody>\n",
       "    <tr>\n",
       "      <th>0</th>\n",
       "      <td>it 's okay but some of the instructor do n't sound calm and the meditation are boring</td>\n",
       "    </tr>\n",
       "    <tr>\n",
       "      <th>1</th>\n",
       "      <td>i 'm confused because i bought the premium because i liked the free version so much but now it say my subscription is active but it wo n't let me play premium stuff i tried going to help and relaunching premium but it 's not working</td>\n",
       "    </tr>\n",
       "    <tr>\n",
       "      <th>2</th>\n",
       "      <td>start right here i have pursued practised meditation and yoga on and off for year this put me on a solid path to center this practice in my life used originally to unf ck my mind regarding quitting smoking and staying quit now i am grateful truly grateful for this app even the advert which only come at the beginning never during practice are for thing that i am interested in i will most likely...</td>\n",
       "    </tr>\n",
       "    <tr>\n",
       "      <th>3</th>\n",
       "      <td>i 've tried different meditation apps before but this one is easily the best it 's easy to use and offer a lot of insight into different type of meditation while i learn about it in the beginner course i also keep coming back to guided relaxation and sleep meditation playlist they 're both incredibly helpful i really appreciate being able to select different voice guide it allows for curating ...</td>\n",
       "    </tr>\n",
       "    <tr>\n",
       "      <th>4</th>\n",
       "      <td>me ayud much simo espero sigan creciendo</td>\n",
       "    </tr>\n",
       "  </tbody>\n",
       "</table>\n",
       "</div>"
      ],
      "text/plain": [
       "                                                                                                                                                                                                                                                                                                                                                                                                     content_clean\n",
       "0                                                                                                                                                                                                                                                                                                                            it 's okay but some of the instructor do n't sound calm and the meditation are boring\n",
       "1                                                                                                                                                                         i 'm confused because i bought the premium because i liked the free version so much but now it say my subscription is active but it wo n't let me play premium stuff i tried going to help and relaunching premium but it 's not working\n",
       "2  start right here i have pursued practised meditation and yoga on and off for year this put me on a solid path to center this practice in my life used originally to unf ck my mind regarding quitting smoking and staying quit now i am grateful truly grateful for this app even the advert which only come at the beginning never during practice are for thing that i am interested in i will most likely...\n",
       "3  i 've tried different meditation apps before but this one is easily the best it 's easy to use and offer a lot of insight into different type of meditation while i learn about it in the beginner course i also keep coming back to guided relaxation and sleep meditation playlist they 're both incredibly helpful i really appreciate being able to select different voice guide it allows for curating ...\n",
       "4                                                                                                                                                                                                                                                                                                                                                                         me ayud much simo espero sigan creciendo"
      ]
     },
     "execution_count": 60,
     "metadata": {},
     "output_type": "execute_result"
    }
   ],
   "source": [
    "data_lojong = nlp_norm(df_lojong_google_users_rev)\n",
    "data_lojong.head()"
   ]
  },
  {
   "cell_type": "code",
   "execution_count": 61,
   "id": "f86717ba",
   "metadata": {},
   "outputs": [
    {
     "data": {
      "text/html": [
       "<div>\n",
       "<style scoped>\n",
       "    .dataframe tbody tr th:only-of-type {\n",
       "        vertical-align: middle;\n",
       "    }\n",
       "\n",
       "    .dataframe tbody tr th {\n",
       "        vertical-align: top;\n",
       "    }\n",
       "\n",
       "    .dataframe thead th {\n",
       "        text-align: right;\n",
       "    }\n",
       "</style>\n",
       "<table border=\"1\" class=\"dataframe\">\n",
       "  <thead>\n",
       "    <tr style=\"text-align: right;\">\n",
       "      <th></th>\n",
       "      <th>content_clean</th>\n",
       "      <th>score</th>\n",
       "    </tr>\n",
       "  </thead>\n",
       "  <tbody>\n",
       "    <tr>\n",
       "      <th>0</th>\n",
       "      <td>it 's okay but some of the instructor do n't sound calm and the meditation are boring</td>\n",
       "      <td>2</td>\n",
       "    </tr>\n",
       "    <tr>\n",
       "      <th>1</th>\n",
       "      <td>i 'm confused because i bought the premium because i liked the free version so much but now it say my subscription is active but it wo n't let me play premium stuff i tried going to help and relaunching premium but it 's not working</td>\n",
       "      <td>3</td>\n",
       "    </tr>\n",
       "    <tr>\n",
       "      <th>2</th>\n",
       "      <td>start right here i have pursued practised meditation and yoga on and off for year this put me on a solid path to center this practice in my life used originally to unf ck my mind regarding quitting smoking and staying quit now i am grateful truly grateful for this app even the advert which only come at the beginning never during practice are for thing that i am interested in i will most likely...</td>\n",
       "      <td>5</td>\n",
       "    </tr>\n",
       "    <tr>\n",
       "      <th>3</th>\n",
       "      <td>i 've tried different meditation apps before but this one is easily the best it 's easy to use and offer a lot of insight into different type of meditation while i learn about it in the beginner course i also keep coming back to guided relaxation and sleep meditation playlist they 're both incredibly helpful i really appreciate being able to select different voice guide it allows for curating ...</td>\n",
       "      <td>5</td>\n",
       "    </tr>\n",
       "    <tr>\n",
       "      <th>4</th>\n",
       "      <td>me ayud much simo espero sigan creciendo</td>\n",
       "      <td>5</td>\n",
       "    </tr>\n",
       "    <tr>\n",
       "      <th>...</th>\n",
       "      <td>...</td>\n",
       "      <td>...</td>\n",
       "    </tr>\n",
       "    <tr>\n",
       "      <th>1846</th>\n",
       "      <td>amei este app esta de parabens otima experiencia</td>\n",
       "      <td>5</td>\n",
       "    </tr>\n",
       "    <tr>\n",
       "      <th>1847</th>\n",
       "      <td>maravilhoso</td>\n",
       "      <td>5</td>\n",
       "    </tr>\n",
       "    <tr>\n",
       "      <th>1848</th>\n",
       "      <td>maravilhoso estou me sentindo completamente relaxado e em paz</td>\n",
       "      <td>5</td>\n",
       "    </tr>\n",
       "    <tr>\n",
       "      <th>1849</th>\n",
       "      <td>terminei a sess o ma ele n o contabilizou</td>\n",
       "      <td>2</td>\n",
       "    </tr>\n",
       "    <tr>\n",
       "      <th>1850</th>\n",
       "      <td>udio de excelente qualidade recomendo uso de fones para a pr ticas parab n aos desenvolvedores pelo excelente resultado aqui apresentado</td>\n",
       "      <td>5</td>\n",
       "    </tr>\n",
       "  </tbody>\n",
       "</table>\n",
       "<p>1851 rows × 2 columns</p>\n",
       "</div>"
      ],
      "text/plain": [
       "                                                                                                                                                                                                                                                                                                                                                                                                        content_clean  \\\n",
       "0                                                                                                                                                                                                                                                                                                                               it 's okay but some of the instructor do n't sound calm and the meditation are boring   \n",
       "1                                                                                                                                                                            i 'm confused because i bought the premium because i liked the free version so much but now it say my subscription is active but it wo n't let me play premium stuff i tried going to help and relaunching premium but it 's not working   \n",
       "2     start right here i have pursued practised meditation and yoga on and off for year this put me on a solid path to center this practice in my life used originally to unf ck my mind regarding quitting smoking and staying quit now i am grateful truly grateful for this app even the advert which only come at the beginning never during practice are for thing that i am interested in i will most likely...   \n",
       "3     i 've tried different meditation apps before but this one is easily the best it 's easy to use and offer a lot of insight into different type of meditation while i learn about it in the beginner course i also keep coming back to guided relaxation and sleep meditation playlist they 're both incredibly helpful i really appreciate being able to select different voice guide it allows for curating ...   \n",
       "4                                                                                                                                                                                                                                                                                                                                                                            me ayud much simo espero sigan creciendo   \n",
       "...                                                                                                                                                                                                                                                                                                                                                                                                               ...   \n",
       "1846                                                                                                                                                                                                                                                                                                                                                                 amei este app esta de parabens otima experiencia   \n",
       "1847                                                                                                                                                                                                                                                                                                                                                                                                      maravilhoso   \n",
       "1848                                                                                                                                                                                                                                                                                                                                                    maravilhoso estou me sentindo completamente relaxado e em paz   \n",
       "1849                                                                                                                                                                                                                                                                                                                                                                        terminei a sess o ma ele n o contabilizou   \n",
       "1850                                                                                                                                                                                                                                                                         udio de excelente qualidade recomendo uso de fones para a pr ticas parab n aos desenvolvedores pelo excelente resultado aqui apresentado   \n",
       "\n",
       "      score  \n",
       "0         2  \n",
       "1         3  \n",
       "2         5  \n",
       "3         5  \n",
       "4         5  \n",
       "...     ...  \n",
       "1846      5  \n",
       "1847      5  \n",
       "1848      5  \n",
       "1849      2  \n",
       "1850      5  \n",
       "\n",
       "[1851 rows x 2 columns]"
      ]
     },
     "execution_count": 61,
     "metadata": {},
     "output_type": "execute_result"
    }
   ],
   "source": [
    "data_lojong = data_lojong.merge(df_lojong_google_users_rev['score'],left_index=True, right_index=True)\n",
    "data_lojong"
   ]
  },
  {
   "cell_type": "code",
   "execution_count": 62,
   "id": "c30ceeba",
   "metadata": {},
   "outputs": [
    {
     "data": {
      "text/html": [
       "<div>\n",
       "<style scoped>\n",
       "    .dataframe tbody tr th:only-of-type {\n",
       "        vertical-align: middle;\n",
       "    }\n",
       "\n",
       "    .dataframe tbody tr th {\n",
       "        vertical-align: top;\n",
       "    }\n",
       "\n",
       "    .dataframe thead th {\n",
       "        text-align: right;\n",
       "    }\n",
       "</style>\n",
       "<table border=\"1\" class=\"dataframe\">\n",
       "  <thead>\n",
       "    <tr style=\"text-align: right;\">\n",
       "      <th></th>\n",
       "      <th>content_clean</th>\n",
       "      <th>score</th>\n",
       "      <th>binary_score</th>\n",
       "    </tr>\n",
       "  </thead>\n",
       "  <tbody>\n",
       "    <tr>\n",
       "      <th>0</th>\n",
       "      <td>it 's okay but some of the instructor do n't sound calm and the meditation are boring</td>\n",
       "      <td>2</td>\n",
       "      <td>0</td>\n",
       "    </tr>\n",
       "    <tr>\n",
       "      <th>1</th>\n",
       "      <td>i 'm confused because i bought the premium because i liked the free version so much but now it say my subscription is active but it wo n't let me play premium stuff i tried going to help and relaunching premium but it 's not working</td>\n",
       "      <td>3</td>\n",
       "      <td>0</td>\n",
       "    </tr>\n",
       "    <tr>\n",
       "      <th>2</th>\n",
       "      <td>start right here i have pursued practised meditation and yoga on and off for year this put me on a solid path to center this practice in my life used originally to unf ck my mind regarding quitting smoking and staying quit now i am grateful truly grateful for this app even the advert which only come at the beginning never during practice are for thing that i am interested in i will most likely...</td>\n",
       "      <td>5</td>\n",
       "      <td>1</td>\n",
       "    </tr>\n",
       "    <tr>\n",
       "      <th>3</th>\n",
       "      <td>i 've tried different meditation apps before but this one is easily the best it 's easy to use and offer a lot of insight into different type of meditation while i learn about it in the beginner course i also keep coming back to guided relaxation and sleep meditation playlist they 're both incredibly helpful i really appreciate being able to select different voice guide it allows for curating ...</td>\n",
       "      <td>5</td>\n",
       "      <td>1</td>\n",
       "    </tr>\n",
       "    <tr>\n",
       "      <th>4</th>\n",
       "      <td>me ayud much simo espero sigan creciendo</td>\n",
       "      <td>5</td>\n",
       "      <td>1</td>\n",
       "    </tr>\n",
       "  </tbody>\n",
       "</table>\n",
       "</div>"
      ],
      "text/plain": [
       "                                                                                                                                                                                                                                                                                                                                                                                                     content_clean  \\\n",
       "0                                                                                                                                                                                                                                                                                                                            it 's okay but some of the instructor do n't sound calm and the meditation are boring   \n",
       "1                                                                                                                                                                         i 'm confused because i bought the premium because i liked the free version so much but now it say my subscription is active but it wo n't let me play premium stuff i tried going to help and relaunching premium but it 's not working   \n",
       "2  start right here i have pursued practised meditation and yoga on and off for year this put me on a solid path to center this practice in my life used originally to unf ck my mind regarding quitting smoking and staying quit now i am grateful truly grateful for this app even the advert which only come at the beginning never during practice are for thing that i am interested in i will most likely...   \n",
       "3  i 've tried different meditation apps before but this one is easily the best it 's easy to use and offer a lot of insight into different type of meditation while i learn about it in the beginner course i also keep coming back to guided relaxation and sleep meditation playlist they 're both incredibly helpful i really appreciate being able to select different voice guide it allows for curating ...   \n",
       "4                                                                                                                                                                                                                                                                                                                                                                         me ayud much simo espero sigan creciendo   \n",
       "\n",
       "   score  binary_score  \n",
       "0      2             0  \n",
       "1      3             0  \n",
       "2      5             1  \n",
       "3      5             1  \n",
       "4      5             1  "
      ]
     },
     "execution_count": 62,
     "metadata": {},
     "output_type": "execute_result"
    }
   ],
   "source": [
    "data_lojong['binary_score'] = [1 if i > 3 else 0 for i in data_lojong['score']]\n",
    "data_lojong.head()"
   ]
  },
  {
   "cell_type": "markdown",
   "id": "477f48c7",
   "metadata": {},
   "source": [
    "## Score 0"
   ]
  },
  {
   "cell_type": "code",
   "execution_count": 65,
   "id": "a2c48aef",
   "metadata": {},
   "outputs": [
    {
     "name": "stdout",
     "output_type": "stream",
     "text": [
      "english       3.741499\n",
      "app           2.980571\n",
      "spanish       2.201520\n",
      "meditation    1.837703\n",
      "ad            1.457094\n",
      "de            1.297911\n",
      "premium       1.263376\n",
      "wa            1.192714\n",
      "language      1.111497\n",
      "awful         1.073840\n",
      "dtype: float64\n"
     ]
    }
   ],
   "source": [
    "rev_by_score_tfidf_binary (data_lojong, 0)"
   ]
  },
  {
   "cell_type": "markdown",
   "id": "75a70da7",
   "metadata": {},
   "source": [
    "## Score 1"
   ]
  },
  {
   "cell_type": "code",
   "execution_count": 66,
   "id": "297d1cc9",
   "metadata": {},
   "outputs": [
    {
     "name": "stdout",
     "output_type": "stream",
     "text": [
      "app            64.200192\n",
      "great          37.405758\n",
      "good           36.675782\n",
      "love           36.360487\n",
      "amazing        31.667181\n",
      "excelente      29.270422\n",
      "meditation     28.178334\n",
      "muito          27.819671\n",
      "best           24.883512\n",
      "maravilhoso    21.575915\n",
      "dtype: float64\n"
     ]
    }
   ],
   "source": [
    "rev_by_score_tfidf_binary (data_lojong, 1)"
   ]
  },
  {
   "cell_type": "markdown",
   "id": "8875bb85",
   "metadata": {},
   "source": [
    "## See text"
   ]
  },
  {
   "cell_type": "code",
   "execution_count": 149,
   "id": "b5f13a17",
   "metadata": {},
   "outputs": [
    {
     "data": {
      "text/plain": [
       "371                                                                                                                                 where is english\n",
       "409                                                                                                                             it 's not in english\n",
       "430                                                                                                                             it 's not in english\n",
       "471     my app is only in spanish and i ca n't find a way to change language to english sadly i had to uninstall and find a different meditation app\n",
       "1026                                                                                            how to we change the language english into malayalam\n",
       "1448                                                            i always meditate in english but there 's only portuguese or spanish language option\n",
       "1687                                                                       no language selection i speak english the app installed itself in spanish\n",
       "Name: content_clean, dtype: object"
      ]
     },
     "execution_count": 149,
     "metadata": {},
     "output_type": "execute_result"
    }
   ],
   "source": [
    "data_lojong[data_lojong['binary_score']==0].loc[data_lojong['content_clean'].str.contains(\"english\", case=False)]['content_clean']"
   ]
  },
  {
   "cell_type": "markdown",
   "id": "9035d6ab",
   "metadata": {},
   "source": [
    "## Conclusion"
   ]
  },
  {
   "cell_type": "markdown",
   "id": "dfb553a5",
   "metadata": {},
   "source": [
    "Many users complain about no English in this app, only Spanish. the also forces you to watch ads before each session, and users find it very anoying."
   ]
  },
  {
   "cell_type": "markdown",
   "id": "dd3f4219",
   "metadata": {},
   "source": [
    "## Prediction"
   ]
  },
  {
   "cell_type": "code",
   "execution_count": 152,
   "id": "0f849dab",
   "metadata": {},
   "outputs": [
    {
     "data": {
      "image/png": "[encoded data removed]",
      "text/plain": [
       "<Figure size 720x360 with 1 Axes>"
      ]
     },
     "metadata": {
      "needs_background": "light"
     },
     "output_type": "display_data"
    },
    {
     "name": "stdout",
     "output_type": "stream",
     "text": [
      "New sample: 1    1417\n",
      "0    1417\n",
      "Name: binary_score, dtype: int64\n"
     ]
    },
    {
     "data": {
      "image/png": "[encoded data removed]",
      "text/plain": [
       "<Figure size 720x360 with 1 Axes>"
      ]
     },
     "metadata": {
      "needs_background": "light"
     },
     "output_type": "display_data"
    },
    {
     "name": "stdout",
     "output_type": "stream",
     "text": [
      "F1 score: 1.0\n"
     ]
    },
    {
     "data": {
      "image/png": "[encoded data removed]",
      "text/plain": [
       "<Figure size 432x288 with 2 Axes>"
      ]
     },
     "metadata": {
      "needs_background": "light"
     },
     "output_type": "display_data"
    },
    {
     "data": {
      "image/png": "[encoded data removed]",
      "text/plain": [
       "<Figure size 432x288 with 1 Axes>"
      ]
     },
     "metadata": {
      "needs_background": "light"
     },
     "output_type": "display_data"
    },
    {
     "name": "stdout",
     "output_type": "stream",
     "text": [
      "              precision    recall  f1-score   support\n",
      "\n",
      "           0       1.00      0.05      0.10        20\n",
      "           1       0.95      1.00      0.97       351\n",
      "\n",
      "    accuracy                           0.95       371\n",
      "   macro avg       0.97      0.53      0.53       371\n",
      "weighted avg       0.95      0.95      0.93       371\n",
      "\n"
     ]
    },
    {
     "data": {
      "text/plain": [
       "(RandomForestClassifier(random_state=42),\n",
       "        aa  aa ser  aa ser como  aap  aap available  aap available incredible  \\\n",
       " 0     0.0     0.0          0.0  0.0            0.0                       0.0   \n",
       " 1     0.0     0.0          0.0  0.0            0.0                       0.0   \n",
       " 2     0.0     0.0          0.0  0.0            0.0                       0.0   \n",
       " 3     0.0     0.0          0.0  0.0            0.0                       0.0   \n",
       " 4     0.0     0.0          0.0  0.0            0.0                       0.0   \n",
       " ...   ...     ...          ...  ...            ...                       ...   \n",
       " 2829  0.0     0.0          0.0  0.0            0.0                       0.0   \n",
       " 2830  0.0     0.0          0.0  0.0            0.0                       0.0   \n",
       " 2831  0.0     0.0          0.0  0.0            0.0                       0.0   \n",
       " 2832  0.0     0.0          0.0  0.0            0.0                       0.0   \n",
       " 2833  0.0     0.0          0.0  0.0            0.0                       0.0   \n",
       " \n",
       "       aap really  aap really good  aberto  aberto em  ...   yo  yo tengo  \\\n",
       " 0            0.0              0.0     0.0        0.0  ...  0.0       0.0   \n",
       " 1            0.0              0.0     0.0        0.0  ...  0.0       0.0   \n",
       " 2            0.0              0.0     0.0        0.0  ...  0.0       0.0   \n",
       " 3            0.0              0.0     0.0        0.0  ...  0.0       0.0   \n",
       " 4            0.0              0.0     0.0        0.0  ...  0.0       0.0   \n",
       " ...          ...              ...     ...        ...  ...  ...       ...   \n",
       " 2829         0.0              0.0     0.0        0.0  ...  0.0       0.0   \n",
       " 2830         0.0              0.0     0.0        0.0  ...  0.0       0.0   \n",
       " 2831         0.0              0.0     0.0        0.0  ...  0.0       0.0   \n",
       " 2832         0.0              0.0     0.0        0.0  ...  0.0       0.0   \n",
       " 2833         0.0              0.0     0.0        0.0  ...  0.0       0.0   \n",
       " \n",
       "       yo tengo posibilidad  yo try  yoga  yoga year  yoga year put  youtube  \\\n",
       " 0                      0.0     0.0   0.0        0.0            0.0      0.0   \n",
       " 1                      0.0     0.0   0.0        0.0            0.0      0.0   \n",
       " 2                      0.0     0.0   0.0        0.0            0.0      0.0   \n",
       " 3                      0.0     0.0   0.0        0.0            0.0      0.0   \n",
       " 4                      0.0     0.0   0.0        0.0            0.0      0.0   \n",
       " ...                    ...     ...   ...        ...            ...      ...   \n",
       " 2829                   0.0     0.0   0.0        0.0            0.0      0.0   \n",
       " 2830                   0.0     0.0   0.0        0.0            0.0      0.0   \n",
       " 2831                   0.0     0.0   0.0        0.0            0.0      0.0   \n",
       " 2832                   0.0     0.0   0.0        0.0            0.0      0.0   \n",
       " 2833                   0.0     0.0   0.0        0.0            0.0      0.0   \n",
       " \n",
       "       youtube vid  youtube vid charge  \n",
       " 0             0.0                 0.0  \n",
       " 1             0.0                 0.0  \n",
       " 2             0.0                 0.0  \n",
       " 3             0.0                 0.0  \n",
       " 4             0.0                 0.0  \n",
       " ...           ...                 ...  \n",
       " 2829          0.0                 0.0  \n",
       " 2830          0.0                 0.0  \n",
       " 2831          0.0                 0.0  \n",
       " 2832          0.0                 0.0  \n",
       " 2833          0.0                 0.0  \n",
       " \n",
       " [2834 rows x 28966 columns])"
      ]
     },
     "execution_count": 152,
     "metadata": {},
     "output_type": "execute_result"
    }
   ],
   "source": [
    "predict(data_lojong)"
   ]
  },
  {
   "cell_type": "markdown",
   "id": "ae849a73",
   "metadata": {},
   "source": [
    "# Meditopia"
   ]
  },
  {
   "cell_type": "code",
   "execution_count": 70,
   "id": "4f0a7d48",
   "metadata": {},
   "outputs": [
    {
     "data": {
      "text/html": [
       "<div>\n",
       "<style scoped>\n",
       "    .dataframe tbody tr th:only-of-type {\n",
       "        vertical-align: middle;\n",
       "    }\n",
       "\n",
       "    .dataframe tbody tr th {\n",
       "        vertical-align: top;\n",
       "    }\n",
       "\n",
       "    .dataframe thead th {\n",
       "        text-align: right;\n",
       "    }\n",
       "</style>\n",
       "<table border=\"1\" class=\"dataframe\">\n",
       "  <thead>\n",
       "    <tr style=\"text-align: right;\">\n",
       "      <th></th>\n",
       "      <th>reviewId</th>\n",
       "      <th>userName</th>\n",
       "      <th>userImage</th>\n",
       "      <th>content</th>\n",
       "      <th>score</th>\n",
       "      <th>thumbsUpCount</th>\n",
       "      <th>reviewCreatedVersion</th>\n",
       "      <th>at</th>\n",
       "      <th>replyContent</th>\n",
       "      <th>repliedAt</th>\n",
       "    </tr>\n",
       "  </thead>\n",
       "  <tbody>\n",
       "    <tr>\n",
       "      <th>0</th>\n",
       "      <td>gp:AOqpTOHruZY1zpYMPQlfp3YCEMDncFxTTgBIqEgjdVLidpmJ48mzAYqgbqFw5cCZUyu258mZRcIwrWLRtW5m-10</td>\n",
       "      <td>Nina Van Medegael</td>\n",
       "      <td>https://play-lh.googleusercontent.com/a-/AOh14GhFD88QaNzfX-lwFyqsR9NW_HStM1eFHb3t4CwbLw</td>\n",
       "      <td>I always use one meditation to sleep but the rest is bot really helpfull to be honest and more then the half is to buy please make more stuff free then i would use it more</td>\n",
       "      <td>2</td>\n",
       "      <td>0</td>\n",
       "      <td>None</td>\n",
       "      <td>2022-04-08 10:09:37</td>\n",
       "      <td>Hello Nina! It's wonderful to hear that our meditations accompany you to sleep. You can always try our Premium sleep content; we offer a free trial period for our members to explore the meditations beforehand. Hope you have wonderful meditations with us! All the best, Irmak - Member Happiness</td>\n",
       "      <td>2022-04-08 12:35:02</td>\n",
       "    </tr>\n",
       "    <tr>\n",
       "      <th>1</th>\n",
       "      <td>gp:AOqpTOGN3fpyQwv7IPyaJsg3QxxNj8lzosRbTUb_iWEh6D-qKTAkoedfc5C4eM9qtXstMDiTRF94rkCeZOXv8cw</td>\n",
       "      <td>Manfrin Pool Antialon</td>\n",
       "      <td>https://play-lh.googleusercontent.com/a-/AOh14GguiTl6sz-dNI7pII8X3MEWAn_Iff8Vzg9zuilLvg</td>\n",
       "      <td>I just updated the app and I can't run it cause I get a message saying \"there a problem, try again.\" I hope you solve this problem quickly cause I payed for the annual membership and now I can't even listening any meditation.</td>\n",
       "      <td>1</td>\n",
       "      <td>0</td>\n",
       "      <td>3.23.2</td>\n",
       "      <td>2022-04-07 22:27:58</td>\n",
       "      <td>Hello! It would help to have at least 2 GB of free space on your device for optimal use. You can also make sure to enter the app with the address enlisted in your Premium account. If the issue persists afterwards, please reach out to us at hello@meditopia.com so we can look into it in detail. All the best, Irmak - Member Happiness</td>\n",
       "      <td>2022-04-08 12:28:34</td>\n",
       "    </tr>\n",
       "    <tr>\n",
       "      <th>2</th>\n",
       "      <td>gp:AOqpTOFXe8PadbMbg1rfBxOGBSCeEFNxB6__90fYlq0ioEJxZcTQzg8FKEZneMF0xy1Tvh7aIaU_jI7NZ7GeiKs</td>\n",
       "      <td>jean forichon</td>\n",
       "      <td>https://play-lh.googleusercontent.com/a-/AOh14GhzPQTN6jKS1_UUJdSq1kPa89oSg1HXdl6QA9zR8Q</td>\n",
       "      <td>I am not going to pay annually.....Let rhe users pay on a month basis.....</td>\n",
       "      <td>3</td>\n",
       "      <td>0</td>\n",
       "      <td>3.22.1</td>\n",
       "      <td>2022-04-06 14:29:41</td>\n",
       "      <td>Hello Jean, we have both monthly and annual plans for Premium membership besides another version of completely free membership. If you need help in navigating through subscription plans, reach us via hello@meditopia.com We are waiting to hear from you! All the best, İpek - Member Happiness</td>\n",
       "      <td>2022-04-06 15:28:24</td>\n",
       "    </tr>\n",
       "    <tr>\n",
       "      <th>3</th>\n",
       "      <td>gp:AOqpTOH94vdiMGIB-IchM9vbqBcwsL2JWvohPf84GhY5k5wvyCbhGsKkOpGTgaXII2xY6VLSbg8OYbcTrdvmBZg</td>\n",
       "      <td>Angie Pimentel</td>\n",
       "      <td>https://play-lh.googleusercontent.com/a-/AOh14GhllyUQFmqq1lsi7RLz2nBz9GxHI74CDW0IvKzj</td>\n",
       "      <td>I really recommend this app because I had sleeping problems for a while, and since I started using it, I got the chance of feeling relaxed, therefore, getting better sleep.</td>\n",
       "      <td>5</td>\n",
       "      <td>0</td>\n",
       "      <td>3.22.1</td>\n",
       "      <td>2022-04-06 12:54:18</td>\n",
       "      <td>None</td>\n",
       "      <td>NaT</td>\n",
       "    </tr>\n",
       "    <tr>\n",
       "      <th>4</th>\n",
       "      <td>gp:AOqpTOGIv7rUDreo5QVSkj5zcY0B5Z37mCGquPWleGNp79bLd8K0m_vPq-Moi-ajkIm8hbL0xUbdWnaFbcx0Izo</td>\n",
       "      <td>FourBlix Test</td>\n",
       "      <td>https://play-lh.googleusercontent.com/a/AATXAJyZVTxfBeTEUg5C30sYrEAmgIklzCn1QoNfIoaV=mo</td>\n",
       "      <td>Gd</td>\n",
       "      <td>3</td>\n",
       "      <td>0</td>\n",
       "      <td>None</td>\n",
       "      <td>2022-04-06 09:53:18</td>\n",
       "      <td>None</td>\n",
       "      <td>NaT</td>\n",
       "    </tr>\n",
       "  </tbody>\n",
       "</table>\n",
       "</div>"
      ],
      "text/plain": [
       "                                                                                     reviewId  \\\n",
       "0  gp:AOqpTOHruZY1zpYMPQlfp3YCEMDncFxTTgBIqEgjdVLidpmJ48mzAYqgbqFw5cCZUyu258mZRcIwrWLRtW5m-10   \n",
       "1  gp:AOqpTOGN3fpyQwv7IPyaJsg3QxxNj8lzosRbTUb_iWEh6D-qKTAkoedfc5C4eM9qtXstMDiTRF94rkCeZOXv8cw   \n",
       "2  gp:AOqpTOFXe8PadbMbg1rfBxOGBSCeEFNxB6__90fYlq0ioEJxZcTQzg8FKEZneMF0xy1Tvh7aIaU_jI7NZ7GeiKs   \n",
       "3  gp:AOqpTOH94vdiMGIB-IchM9vbqBcwsL2JWvohPf84GhY5k5wvyCbhGsKkOpGTgaXII2xY6VLSbg8OYbcTrdvmBZg   \n",
       "4  gp:AOqpTOGIv7rUDreo5QVSkj5zcY0B5Z37mCGquPWleGNp79bLd8K0m_vPq-Moi-ajkIm8hbL0xUbdWnaFbcx0Izo   \n",
       "\n",
       "                userName  \\\n",
       "0      Nina Van Medegael   \n",
       "1  Manfrin Pool Antialon   \n",
       "2          jean forichon   \n",
       "3         Angie Pimentel   \n",
       "4          FourBlix Test   \n",
       "\n",
       "                                                                                 userImage  \\\n",
       "0  https://play-lh.googleusercontent.com/a-/AOh14GhFD88QaNzfX-lwFyqsR9NW_HStM1eFHb3t4CwbLw   \n",
       "1  https://play-lh.googleusercontent.com/a-/AOh14GguiTl6sz-dNI7pII8X3MEWAn_Iff8Vzg9zuilLvg   \n",
       "2  https://play-lh.googleusercontent.com/a-/AOh14GhzPQTN6jKS1_UUJdSq1kPa89oSg1HXdl6QA9zR8Q   \n",
       "3    https://play-lh.googleusercontent.com/a-/AOh14GhllyUQFmqq1lsi7RLz2nBz9GxHI74CDW0IvKzj   \n",
       "4  https://play-lh.googleusercontent.com/a/AATXAJyZVTxfBeTEUg5C30sYrEAmgIklzCn1QoNfIoaV=mo   \n",
       "\n",
       "                                                                                                                                                                                                                             content  \\\n",
       "0                                                        I always use one meditation to sleep but the rest is bot really helpfull to be honest and more then the half is to buy please make more stuff free then i would use it more   \n",
       "1  I just updated the app and I can't run it cause I get a message saying \"there a problem, try again.\" I hope you solve this problem quickly cause I payed for the annual membership and now I can't even listening any meditation.   \n",
       "2                                                                                                                                                         I am not going to pay annually.....Let rhe users pay on a month basis.....   \n",
       "3                                                       I really recommend this app because I had sleeping problems for a while, and since I started using it, I got the chance of feeling relaxed, therefore, getting better sleep.   \n",
       "4                                                                                                                                                                                                                                 Gd   \n",
       "\n",
       "   score  thumbsUpCount reviewCreatedVersion                  at  \\\n",
       "0      2              0                 None 2022-04-08 10:09:37   \n",
       "1      1              0               3.23.2 2022-04-07 22:27:58   \n",
       "2      3              0               3.22.1 2022-04-06 14:29:41   \n",
       "3      5              0               3.22.1 2022-04-06 12:54:18   \n",
       "4      3              0                 None 2022-04-06 09:53:18   \n",
       "\n",
       "                                                                                                                                                                                                                                                                                                                                   replyContent  \\\n",
       "0                                         Hello Nina! It's wonderful to hear that our meditations accompany you to sleep. You can always try our Premium sleep content; we offer a free trial period for our members to explore the meditations beforehand. Hope you have wonderful meditations with us! All the best, Irmak - Member Happiness   \n",
       "1  Hello! It would help to have at least 2 GB of free space on your device for optimal use. You can also make sure to enter the app with the address enlisted in your Premium account. If the issue persists afterwards, please reach out to us at hello@meditopia.com so we can look into it in detail. All the best, Irmak - Member Happiness   \n",
       "2                                            Hello Jean, we have both monthly and annual plans for Premium membership besides another version of completely free membership. If you need help in navigating through subscription plans, reach us via hello@meditopia.com We are waiting to hear from you! All the best, İpek - Member Happiness   \n",
       "3                                                                                                                                                                                                                                                                                                                                          None   \n",
       "4                                                                                                                                                                                                                                                                                                                                          None   \n",
       "\n",
       "            repliedAt  \n",
       "0 2022-04-08 12:35:02  \n",
       "1 2022-04-08 12:28:34  \n",
       "2 2022-04-06 15:28:24  \n",
       "3                 NaT  \n",
       "4                 NaT  "
      ]
     },
     "execution_count": 70,
     "metadata": {},
     "output_type": "execute_result"
    }
   ],
   "source": [
    "#Google configuration\n",
    "meditopia_google_users_rev = reviews_all('app.meditasyon', sleep_milliseconds=0)\n",
    "#Convert to DataFrame\n",
    "df_meditopia_google_users_rev = pd.DataFrame(np.array(meditopia_google_users_rev), columns=['reviews'])\n",
    "df_meditopia_google_users_rev = df_meditopia_google_users_rev.join(pd.DataFrame(df_meditopia_google_users_rev.pop('reviews').tolist()))\n",
    "\n",
    "df_meditopia_google_users_rev.head()"
   ]
  },
  {
   "cell_type": "code",
   "execution_count": 71,
   "id": "820ca1bb",
   "metadata": {},
   "outputs": [
    {
     "name": "stdout",
     "output_type": "stream",
     "text": [
      "<class 'pandas.core.frame.DataFrame'>\n",
      "RangeIndex: 2574 entries, 0 to 2573\n",
      "Data columns (total 10 columns):\n",
      " #   Column                Non-Null Count  Dtype         \n",
      "---  ------                --------------  -----         \n",
      " 0   reviewId              2574 non-null   object        \n",
      " 1   userName              2574 non-null   object        \n",
      " 2   userImage             2574 non-null   object        \n",
      " 3   content               2574 non-null   object        \n",
      " 4   score                 2574 non-null   int64         \n",
      " 5   thumbsUpCount         2574 non-null   int64         \n",
      " 6   reviewCreatedVersion  2267 non-null   object        \n",
      " 7   at                    2574 non-null   datetime64[ns]\n",
      " 8   replyContent          833 non-null    object        \n",
      " 9   repliedAt             833 non-null    datetime64[ns]\n",
      "dtypes: datetime64[ns](2), int64(2), object(6)\n",
      "memory usage: 201.2+ KB\n"
     ]
    }
   ],
   "source": [
    "df_meditopia_google_users_rev.info()"
   ]
  },
  {
   "cell_type": "code",
   "execution_count": 72,
   "id": "b2fd4baa",
   "metadata": {},
   "outputs": [
    {
     "data": {
      "image/png": "[encoded data removed]",
      "text/plain": [
       "<Figure size 432x288 with 1 Axes>"
      ]
     },
     "metadata": {
      "needs_background": "light"
     },
     "output_type": "display_data"
    }
   ],
   "source": [
    "df_meditopia_google_users_rev['score'].value_counts().sort_values().plot(kind='barh')\n",
    "plt.title('Score count', size=15)\n",
    "plt.ylabel('Score')\n",
    "plt.xlabel('Count')\n",
    "plt.show()"
   ]
  },
  {
   "cell_type": "code",
   "execution_count": 153,
   "id": "ef862625",
   "metadata": {},
   "outputs": [
    {
     "data": {
      "text/plain": [
       "5    1908\n",
       "1     310\n",
       "4     196\n",
       "3      91\n",
       "2      69\n",
       "Name: score, dtype: int64"
      ]
     },
     "execution_count": 153,
     "metadata": {},
     "output_type": "execute_result"
    }
   ],
   "source": [
    "df_meditopia_google_users_rev['score'].value_counts()"
   ]
  },
  {
   "cell_type": "markdown",
   "id": "6d680382",
   "metadata": {},
   "source": [
    "We have many great reviews of 5 (1,908), folloed by the worst score of 1 (310 reviews)"
   ]
  },
  {
   "cell_type": "code",
   "execution_count": 73,
   "id": "303ba4ca",
   "metadata": {},
   "outputs": [
    {
     "data": {
      "text/plain": [
       "count                             2574\n",
       "mean     2020-08-29 21:10:56.552059136\n",
       "min                2017-03-07 21:48:30\n",
       "25%                2020-03-24 02:27:13\n",
       "50%         2020-08-19 09:22:19.500000\n",
       "75%      2021-03-22 04:09:13.750000128\n",
       "max                2022-04-08 10:09:37\n",
       "Name: at, dtype: object"
      ]
     },
     "execution_count": 73,
     "metadata": {},
     "output_type": "execute_result"
    }
   ],
   "source": [
    "df_meditopia_google_users_rev['at'].describe(datetime_is_numeric=True)"
   ]
  },
  {
   "cell_type": "markdown",
   "id": "3b94130c",
   "metadata": {},
   "source": [
    "We have reviews starting from Mar 2017 until today (Apr 2022)"
   ]
  },
  {
   "cell_type": "code",
   "execution_count": 74,
   "id": "f2c29110",
   "metadata": {},
   "outputs": [],
   "source": [
    "df_meditopia_google_users_rev['date'] = df_meditopia_google_users_rev['at'].dt.date"
   ]
  },
  {
   "cell_type": "code",
   "execution_count": 75,
   "id": "37a8c2f5",
   "metadata": {},
   "outputs": [
    {
     "data": {
      "image/png": "[encoded data removed]",
      "text/plain": [
       "<Figure size 1080x360 with 1 Axes>"
      ]
     },
     "metadata": {
      "needs_background": "light"
     },
     "output_type": "display_data"
    }
   ],
   "source": [
    "fig, axs = plt.subplots(figsize=(15, 5))\n",
    "sns.lineplot(data=df_meditopia_google_users_rev.groupby('date')['content'].count(), ax=axs)\n",
    "plt.title('Number of reviews per day', size=15)\n",
    "plt.ylabel('Number of reviews')\n",
    "plt.show()"
   ]
  },
  {
   "cell_type": "markdown",
   "id": "4a139154",
   "metadata": {},
   "source": [
    "We see number of reviews per day peaking around Feb 2020 and decreasing, but more than one review per day."
   ]
  },
  {
   "cell_type": "markdown",
   "id": "9f54b2f6",
   "metadata": {},
   "source": [
    "## Normalization"
   ]
  },
  {
   "cell_type": "markdown",
   "id": "086c47dc",
   "metadata": {},
   "source": [
    "1. Remove all signs\n",
    "2. Tokenize\n",
    "3. Lemmatize\n",
    "4. Join\n",
    "5. TF-IDF\n",
    "6. Predict"
   ]
  },
  {
   "cell_type": "code",
   "execution_count": 76,
   "id": "423a0caf",
   "metadata": {},
   "outputs": [
    {
     "data": {
      "text/html": [
       "<div>\n",
       "<style scoped>\n",
       "    .dataframe tbody tr th:only-of-type {\n",
       "        vertical-align: middle;\n",
       "    }\n",
       "\n",
       "    .dataframe tbody tr th {\n",
       "        vertical-align: top;\n",
       "    }\n",
       "\n",
       "    .dataframe thead th {\n",
       "        text-align: right;\n",
       "    }\n",
       "</style>\n",
       "<table border=\"1\" class=\"dataframe\">\n",
       "  <thead>\n",
       "    <tr style=\"text-align: right;\">\n",
       "      <th></th>\n",
       "      <th>content_clean</th>\n",
       "      <th>score</th>\n",
       "    </tr>\n",
       "  </thead>\n",
       "  <tbody>\n",
       "    <tr>\n",
       "      <th>0</th>\n",
       "      <td>i always use one meditation to sleep but the rest is bot really helpfull to be honest and more then the half is to buy please make more stuff free then i would use it more</td>\n",
       "      <td>2</td>\n",
       "    </tr>\n",
       "    <tr>\n",
       "      <th>1</th>\n",
       "      <td>i just updated the app and i ca n't run it cause i get a message saying there a problem try again i hope you solve this problem quickly cause i payed for the annual membership and now i ca n't even listening any meditation</td>\n",
       "      <td>1</td>\n",
       "    </tr>\n",
       "    <tr>\n",
       "      <th>2</th>\n",
       "      <td>i am not going to pay annually let rhe user pay on a month basis</td>\n",
       "      <td>3</td>\n",
       "    </tr>\n",
       "    <tr>\n",
       "      <th>3</th>\n",
       "      <td>i really recommend this app because i had sleeping problem for a while and since i started using it i got the chance of feeling relaxed therefore getting better sleep</td>\n",
       "      <td>5</td>\n",
       "    </tr>\n",
       "    <tr>\n",
       "      <th>4</th>\n",
       "      <td>gd</td>\n",
       "      <td>3</td>\n",
       "    </tr>\n",
       "  </tbody>\n",
       "</table>\n",
       "</div>"
      ],
      "text/plain": [
       "                                                                                                                                                                                                                    content_clean  \\\n",
       "0                                                     i always use one meditation to sleep but the rest is bot really helpfull to be honest and more then the half is to buy please make more stuff free then i would use it more   \n",
       "1  i just updated the app and i ca n't run it cause i get a message saying there a problem try again i hope you solve this problem quickly cause i payed for the annual membership and now i ca n't even listening any meditation   \n",
       "2                                                                                                                                                                i am not going to pay annually let rhe user pay on a month basis   \n",
       "3                                                          i really recommend this app because i had sleeping problem for a while and since i started using it i got the chance of feeling relaxed therefore getting better sleep   \n",
       "4                                                                                                                                                                                                                              gd   \n",
       "\n",
       "   score  \n",
       "0      2  \n",
       "1      1  \n",
       "2      3  \n",
       "3      5  \n",
       "4      3  "
      ]
     },
     "execution_count": 76,
     "metadata": {},
     "output_type": "execute_result"
    }
   ],
   "source": [
    "data_meditopia = nlp_norm(df_meditopia_google_users_rev)\n",
    "data_meditopia = data_meditopia.merge(df_meditopia_google_users_rev['score'],left_index=True, right_index=True)\n",
    "data_meditopia.head()"
   ]
  },
  {
   "cell_type": "code",
   "execution_count": 77,
   "id": "305bdb33",
   "metadata": {},
   "outputs": [
    {
     "data": {
      "text/html": [
       "<div>\n",
       "<style scoped>\n",
       "    .dataframe tbody tr th:only-of-type {\n",
       "        vertical-align: middle;\n",
       "    }\n",
       "\n",
       "    .dataframe tbody tr th {\n",
       "        vertical-align: top;\n",
       "    }\n",
       "\n",
       "    .dataframe thead th {\n",
       "        text-align: right;\n",
       "    }\n",
       "</style>\n",
       "<table border=\"1\" class=\"dataframe\">\n",
       "  <thead>\n",
       "    <tr style=\"text-align: right;\">\n",
       "      <th></th>\n",
       "      <th>content_clean</th>\n",
       "      <th>score</th>\n",
       "      <th>binary_score</th>\n",
       "    </tr>\n",
       "  </thead>\n",
       "  <tbody>\n",
       "    <tr>\n",
       "      <th>0</th>\n",
       "      <td>i always use one meditation to sleep but the rest is bot really helpfull to be honest and more then the half is to buy please make more stuff free then i would use it more</td>\n",
       "      <td>2</td>\n",
       "      <td>0</td>\n",
       "    </tr>\n",
       "    <tr>\n",
       "      <th>1</th>\n",
       "      <td>i just updated the app and i ca n't run it cause i get a message saying there a problem try again i hope you solve this problem quickly cause i payed for the annual membership and now i ca n't even listening any meditation</td>\n",
       "      <td>1</td>\n",
       "      <td>0</td>\n",
       "    </tr>\n",
       "    <tr>\n",
       "      <th>2</th>\n",
       "      <td>i am not going to pay annually let rhe user pay on a month basis</td>\n",
       "      <td>3</td>\n",
       "      <td>0</td>\n",
       "    </tr>\n",
       "    <tr>\n",
       "      <th>3</th>\n",
       "      <td>i really recommend this app because i had sleeping problem for a while and since i started using it i got the chance of feeling relaxed therefore getting better sleep</td>\n",
       "      <td>5</td>\n",
       "      <td>1</td>\n",
       "    </tr>\n",
       "    <tr>\n",
       "      <th>4</th>\n",
       "      <td>gd</td>\n",
       "      <td>3</td>\n",
       "      <td>0</td>\n",
       "    </tr>\n",
       "  </tbody>\n",
       "</table>\n",
       "</div>"
      ],
      "text/plain": [
       "                                                                                                                                                                                                                    content_clean  \\\n",
       "0                                                     i always use one meditation to sleep but the rest is bot really helpfull to be honest and more then the half is to buy please make more stuff free then i would use it more   \n",
       "1  i just updated the app and i ca n't run it cause i get a message saying there a problem try again i hope you solve this problem quickly cause i payed for the annual membership and now i ca n't even listening any meditation   \n",
       "2                                                                                                                                                                i am not going to pay annually let rhe user pay on a month basis   \n",
       "3                                                          i really recommend this app because i had sleeping problem for a while and since i started using it i got the chance of feeling relaxed therefore getting better sleep   \n",
       "4                                                                                                                                                                                                                              gd   \n",
       "\n",
       "   score  binary_score  \n",
       "0      2             0  \n",
       "1      1             0  \n",
       "2      3             0  \n",
       "3      5             1  \n",
       "4      3             0  "
      ]
     },
     "execution_count": 77,
     "metadata": {},
     "output_type": "execute_result"
    }
   ],
   "source": [
    "data_meditopia['binary_score'] = [1 if i > 3 else 0 for i in data_meditopia['score']]\n",
    "data_meditopia.head()"
   ]
  },
  {
   "cell_type": "markdown",
   "id": "618e30ee",
   "metadata": {},
   "source": [
    "## Score 0"
   ]
  },
  {
   "cell_type": "code",
   "execution_count": 78,
   "id": "e258c2ad",
   "metadata": {},
   "outputs": [
    {
     "name": "stdout",
     "output_type": "stream",
     "text": [
      "free            14.331252\n",
      "app             12.011455\n",
      "pay             11.484169\n",
      "trial            6.915481\n",
      "subscription     6.025623\n",
      "good             5.906455\n",
      "meditation       5.604838\n",
      "expensive        5.490041\n",
      "wa               4.915696\n",
      "even             4.647504\n",
      "dtype: float64\n"
     ]
    }
   ],
   "source": [
    "rev_by_score_tfidf_binary (data_meditopia, 0)"
   ]
  },
  {
   "cell_type": "markdown",
   "id": "dff405e7",
   "metadata": {},
   "source": [
    "## Score 1"
   ]
  },
  {
   "cell_type": "code",
   "execution_count": 79,
   "id": "1a731c17",
   "metadata": {},
   "outputs": [
    {
     "name": "stdout",
     "output_type": "stream",
     "text": [
      "app           80.972509\n",
      "love          79.635823\n",
      "great         77.868146\n",
      "good          66.348520\n",
      "amazing       52.289854\n",
      "relaxing      45.988042\n",
      "best          34.312999\n",
      "help          31.052088\n",
      "meditation    28.723173\n",
      "awesome       26.851198\n",
      "dtype: float64\n"
     ]
    }
   ],
   "source": [
    "rev_by_score_tfidf_binary (data_meditopia, 1)"
   ]
  },
  {
   "cell_type": "markdown",
   "id": "178fd0f2",
   "metadata": {},
   "source": [
    "## See text"
   ]
  },
  {
   "cell_type": "code",
   "execution_count": 161,
   "id": "930b6a79",
   "metadata": {},
   "outputs": [
    {
     "data": {
      "text/plain": [
       "0                                                                                                                                                                                                                                      i always use one meditation to sleep but the rest is bot really helpfull to be honest and more then the half is to buy please make more stuff free then i would use it more\n",
       "14                                                                               i have to pay for a monthly subscription like everything else maybe if i had free thing to try out for sleeping to get an experience rather than day free then get charged monthly i wa interested then i wasted my time filling out your question just to get offered a subscription instantly deleted i 'll find something else\n",
       "36                                                                                                                                                                                                                                                                                                                                                                        not enough free stuff to even get a fewl\n",
       "48                                                                                                                              still charged after i cancelled subscription on google play within day trial i found the app ha automatically charged me nzd and it 's been more than over a week since i cancelled the subscription for the expired free trial my bank is now resolving this issue bad experience\n",
       "69                                                                                                                                                                                                                                                                                                                                         well it 's not really free once you start you 'll have only a day trial\n",
       "                                                                                                                                                                                                           ...                                                                                                                                                                                                    \n",
       "2448                                                                                                                                                                                                                                                                                                                                                                             i need free app just uninstall it\n",
       "2497                                                                                                                                                                                                                                                                                                                                                                       i thought this wa a free meditation app\n",
       "2525                                                                                                                                                                                                                                            sign up with facebook doe n't work say app is still under development it 's a free trial for week the voice stop after the screen turn off but the music continues\n",
       "2533    i wa enjoying the free version of the app even though the ad to ask me to use the trial version were a bit annoying today it would n't let me meditate without signing up for the trial for a product that promotes inner well being your sale tactic are le than noble if i wanted to buy it i would but forcing me into it under the guise a free trial i didnt ask for is too manipulative for my taste\n",
       "2550                                                                                                          it a good app for every one but i cant play the next session because it cost money i cant do that monthy payment cause im just a teen i just wan na say that someday it will change to free please cause i love this app it make me feel relax now i want to uninstall it cause u know it cost money\n",
       "Name: content_clean, Length: 113, dtype: object"
      ]
     },
     "execution_count": 161,
     "metadata": {},
     "output_type": "execute_result"
    }
   ],
   "source": [
    "data_meditopia[data_meditopia['binary_score']==0].loc[data_meditopia['content_clean'].str.contains(\"free\", case=False)]['content_clean']"
   ]
  },
  {
   "cell_type": "markdown",
   "id": "bcf5d642",
   "metadata": {},
   "source": [
    "## Conclusion"
   ]
  },
  {
   "cell_type": "markdown",
   "id": "4ffba514",
   "metadata": {},
   "source": [
    "Most of the content is for premium users, not enought free content. the trial is too short."
   ]
  },
  {
   "cell_type": "markdown",
   "id": "115859b9",
   "metadata": {},
   "source": [
    "## Prediction"
   ]
  },
  {
   "cell_type": "code",
   "execution_count": 186,
   "id": "661247da",
   "metadata": {},
   "outputs": [
    {
     "data": {
      "image/png": "[encoded data removed]",
      "text/plain": [
       "<Figure size 720x360 with 1 Axes>"
      ]
     },
     "metadata": {
      "needs_background": "light"
     },
     "output_type": "display_data"
    },
    {
     "name": "stdout",
     "output_type": "stream",
     "text": [
      "New sample: 0    1694\n",
      "1    1694\n",
      "Name: binary_score, dtype: int64\n"
     ]
    },
    {
     "data": {
      "image/png": "[encoded data removed]",
      "text/plain": [
       "<Figure size 720x360 with 1 Axes>"
      ]
     },
     "metadata": {
      "needs_background": "light"
     },
     "output_type": "display_data"
    },
    {
     "name": "stdout",
     "output_type": "stream",
     "text": [
      "F1 score: 0.9447281033488352\n"
     ]
    },
    {
     "data": {
      "image/png": "[encoded data removed]",
      "text/plain": [
       "<Figure size 432x288 with 2 Axes>"
      ]
     },
     "metadata": {
      "needs_background": "light"
     },
     "output_type": "display_data"
    },
    {
     "data": {
      "image/png": "[encoded data removed]",
      "text/plain": [
       "<Figure size 432x288 with 1 Axes>"
      ]
     },
     "metadata": {
      "needs_background": "light"
     },
     "output_type": "display_data"
    },
    {
     "name": "stdout",
     "output_type": "stream",
     "text": [
      "              precision    recall  f1-score   support\n",
      "\n",
      "           0       0.61      0.71      0.66       105\n",
      "           1       0.92      0.89      0.90       410\n",
      "\n",
      "    accuracy                           0.85       515\n",
      "   macro avg       0.77      0.80      0.78       515\n",
      "weighted avg       0.86      0.85      0.85       515\n",
      "\n"
     ]
    }
   ],
   "source": [
    "predict(data_meditopia)"
   ]
  },
  {
   "cell_type": "code",
   "execution_count": null,
   "id": "5de7d6d1",
   "metadata": {},
   "outputs": [],
   "source": []
  }
 ],
 "metadata": {
  "kernelspec": {
   "display_name": "Python 3",
   "language": "python",
   "name": "python3"
  },
  "language_info": {
   "codemirror_mode": {
    "name": "ipython",
    "version": 3
   },
   "file_extension": ".py",
   "mimetype": "text/x-python",
   "name": "python",
   "nbconvert_exporter": "python",
   "pygments_lexer": "ipython3",
   "version": "3.8.8"
  }
 },
 "nbformat": 4,
 "nbformat_minor": 5
}
